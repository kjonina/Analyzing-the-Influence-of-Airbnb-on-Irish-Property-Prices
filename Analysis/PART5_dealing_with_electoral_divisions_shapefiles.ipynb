{
 "cells": [
  {
   "cell_type": "code",
   "execution_count": null,
   "id": "e8983fa8",
   "metadata": {
    "id": "e8983fa8"
   },
   "outputs": [],
   "source": []
  },
  {
   "cell_type": "code",
   "execution_count": 1,
   "id": "539cc6b1",
   "metadata": {
    "id": "539cc6b1"
   },
   "outputs": [],
   "source": [
    "# import packages\n",
    "import numpy as np\n",
    "import geopandas as gpd\n",
    "import pandas as pd\n",
    "import matplotlib.pyplot as plt\n",
    "from shapely.geometry import Point, Polygon, shape\n",
    "import fiona\n",
    "fiona.drvsupport.supported_drivers['libkml'] = 'rw' # enable KML support which is disabled by default\n",
    "fiona.drvsupport.supported_drivers['LIBKML'] = 'rw'\n",
    "\n",
    "import plotly.express as px\n",
    "from plotly.subplots import make_subplots"
   ]
  },
  {
   "cell_type": "markdown",
   "id": "713b51c4",
   "metadata": {
    "id": "713b51c4"
   },
   "source": [
    "## Geodataframe\n",
    "\n",
    "The CSO website was used to extract the  Electoral Division data\n",
    "\n",
    "https://data-osi.opendata.arcgis.com/datasets/429c839036934413bb740bea190f2596_0/explore?location=53.317810%2C-5.938828%2C10.45"
   ]
  },
  {
   "cell_type": "markdown",
   "id": "0fe84a26",
   "metadata": {},
   "source": [
    "#### Electoral Area"
   ]
  },
  {
   "cell_type": "code",
   "execution_count": 2,
   "id": "eb056b5d",
   "metadata": {},
   "outputs": [],
   "source": [
    "# reading in the small area .geojson\n",
    "electoral_division_gdf = gpd.read_file('Data/Shapefiles/Electoral_Divisions_2019.geojson')\n",
    "# Will ensure that all columns are displayed\n",
    "pd.set_option('display.max_columns', None) \n",
    "\n",
    "electoral_division_gdf.columns = electoral_division_gdf.columns.str.lower()"
   ]
  },
  {
   "cell_type": "code",
   "execution_count": 3,
   "id": "0f103cf8",
   "metadata": {},
   "outputs": [
    {
     "data": {
      "text/html": [
       "<div>\n",
       "<style scoped>\n",
       "    .dataframe tbody tr th:only-of-type {\n",
       "        vertical-align: middle;\n",
       "    }\n",
       "\n",
       "    .dataframe tbody tr th {\n",
       "        vertical-align: top;\n",
       "    }\n",
       "\n",
       "    .dataframe thead th {\n",
       "        text-align: right;\n",
       "    }\n",
       "</style>\n",
       "<table border=\"1\" class=\"dataframe\">\n",
       "  <thead>\n",
       "    <tr style=\"text-align: right;\">\n",
       "      <th></th>\n",
       "      <th>0</th>\n",
       "    </tr>\n",
       "  </thead>\n",
       "  <tbody>\n",
       "    <tr>\n",
       "      <th>ed_id</th>\n",
       "      <td>267160</td>\n",
       "    </tr>\n",
       "    <tr>\n",
       "      <th>english</th>\n",
       "      <td>TURNAPIN</td>\n",
       "    </tr>\n",
       "    <tr>\n",
       "      <th>gaeilge</th>\n",
       "      <td>Turnapain</td>\n",
       "    </tr>\n",
       "    <tr>\n",
       "      <th>contae</th>\n",
       "      <td>Baile Átha Cliath</td>\n",
       "    </tr>\n",
       "    <tr>\n",
       "      <th>county</th>\n",
       "      <td>DUBLIN</td>\n",
       "    </tr>\n",
       "    <tr>\n",
       "      <th>province</th>\n",
       "      <td>Leinster</td>\n",
       "    </tr>\n",
       "    <tr>\n",
       "      <th>guid</th>\n",
       "      <td>2ae19629-1cea-13a3-e055-000000000001</td>\n",
       "    </tr>\n",
       "    <tr>\n",
       "      <th>centroid_x</th>\n",
       "      <td>717365.57</td>\n",
       "    </tr>\n",
       "    <tr>\n",
       "      <th>centroid_y</th>\n",
       "      <td>740807.88</td>\n",
       "    </tr>\n",
       "    <tr>\n",
       "      <th>area</th>\n",
       "      <td>943505.13</td>\n",
       "    </tr>\n",
       "    <tr>\n",
       "      <th>esri_oid</th>\n",
       "      <td>1</td>\n",
       "    </tr>\n",
       "    <tr>\n",
       "      <th>shape__area</th>\n",
       "      <td>943505.129608</td>\n",
       "    </tr>\n",
       "    <tr>\n",
       "      <th>shape__length</th>\n",
       "      <td>4732.251966</td>\n",
       "    </tr>\n",
       "    <tr>\n",
       "      <th>geometry</th>\n",
       "      <td>POLYGON ((-6.22935255162835 53.411397910579, -...</td>\n",
       "    </tr>\n",
       "  </tbody>\n",
       "</table>\n",
       "</div>"
      ],
      "text/plain": [
       "                                                               0\n",
       "ed_id                                                     267160\n",
       "english                                                 TURNAPIN\n",
       "gaeilge                                                Turnapain\n",
       "contae                                         Baile Átha Cliath\n",
       "county                                                    DUBLIN\n",
       "province                                                Leinster\n",
       "guid                        2ae19629-1cea-13a3-e055-000000000001\n",
       "centroid_x                                             717365.57\n",
       "centroid_y                                             740807.88\n",
       "area                                                   943505.13\n",
       "esri_oid                                                       1\n",
       "shape__area                                        943505.129608\n",
       "shape__length                                        4732.251966\n",
       "geometry       POLYGON ((-6.22935255162835 53.411397910579, -..."
      ]
     },
     "execution_count": 3,
     "metadata": {},
     "output_type": "execute_result"
    }
   ],
   "source": [
    "electoral_division_gdf.head(1).transpose()"
   ]
  },
  {
   "cell_type": "code",
   "execution_count": 4,
   "id": "4b589e0c",
   "metadata": {},
   "outputs": [
    {
     "data": {
      "text/plain": [
       "Index(['ed_id', 'english', 'gaeilge', 'contae', 'county', 'province', 'guid',\n",
       "       'centroid_x', 'centroid_y', 'area', 'esri_oid', 'shape__area',\n",
       "       'shape__length', 'geometry'],\n",
       "      dtype='object')"
      ]
     },
     "execution_count": 4,
     "metadata": {},
     "output_type": "execute_result"
    }
   ],
   "source": [
    "electoral_division_gdf.columns"
   ]
  },
  {
   "cell_type": "markdown",
   "id": "5a1d98f8",
   "metadata": {},
   "source": [
    "#### Area of Electoral Divisions"
   ]
  },
  {
   "cell_type": "code",
   "execution_count": 5,
   "id": "56aaac2e",
   "metadata": {},
   "outputs": [],
   "source": [
    "electoral_division_gdf= electoral_division_gdf[[\n",
    "    'ed_id', 'english', \n",
    "#     'gaeilge', 'contae', \n",
    "    'county', \n",
    "#     'province', 'guid', 'centroid_x', 'centroid_y', 'area', 'esri_oid', 'shape__area',\n",
    "#        'shape__length', \n",
    "    'geometry' ]]\n",
    "\n",
    "# renaming columns\n",
    "electoral_division_gdf = electoral_division_gdf.rename(columns={\n",
    "                             \"english\": \"small_area_name\",\n",
    "                                    })\n",
    "\n",
    "electoral_division_gdf['electoral_divisions'] = electoral_division_gdf['small_area_name'] + ', CO.' +  electoral_division_gdf['county']"
   ]
  },
  {
   "cell_type": "code",
   "execution_count": 6,
   "id": "8b2f6f82",
   "metadata": {},
   "outputs": [
    {
     "name": "stderr",
     "output_type": "stream",
     "text": [
      "C:\\Users\\Karina\\miniconda3\\lib\\site-packages\\pyproj\\crs\\crs.py:130: FutureWarning: '+init=<authority>:<code>' syntax is deprecated. '<authority>:<code>' is the preferred initialization method. When making the change, be mindful of axis order changes: https://pyproj4.github.io/pyproj/stable/gotchas.html#axis-order-changes-in-proj-6\n",
      "  in_crs_string = _prepare_from_proj_string(in_crs_string)\n"
     ]
    }
   ],
   "source": [
    "area_electoral_division_gdf= electoral_division_gdf.to_crs({'init' :'epsg:2157'}) \n",
    "for i in range(len(area_electoral_division_gdf)):\n",
    "    area_electoral_division_gdf.loc[i,'area_in_m2'] = shape(area_electoral_division_gdf.loc[i,'geometry']).area\n",
    "    \n",
    "area_electoral_division_gdf['area_in_km2'] = area_electoral_division_gdf['area_in_m2'] /1000000\n",
    "\n",
    "electoral_division_gdf['area_in_km2_ed'] = area_electoral_division_gdf['area_in_km2']"
   ]
  },
  {
   "cell_type": "code",
   "execution_count": null,
   "id": "b55cc220",
   "metadata": {},
   "outputs": [],
   "source": []
  },
  {
   "cell_type": "markdown",
   "id": "367841b7",
   "metadata": {},
   "source": [
    "#### Save "
   ]
  },
  {
   "cell_type": "code",
   "execution_count": 7,
   "id": "28671794",
   "metadata": {},
   "outputs": [],
   "source": [
    "electoral_division_gdf.to_file('Data/Shapefiles/clean_electoral_division_gdf.geojson', index=False)"
   ]
  },
  {
   "cell_type": "code",
   "execution_count": 8,
   "id": "ada2cb93",
   "metadata": {},
   "outputs": [
    {
     "name": "stderr",
     "output_type": "stream",
     "text": [
      "C:\\Users\\Karina\\AppData\\Local\\Temp\\ipykernel_16976\\4186296465.py:1: UserWarning: Column names longer than 10 characters will be truncated when saved to ESRI Shapefile.\n",
      "  electoral_division_gdf.to_file('Data/Shapefiles/clean_electoral_division_gdf.shp', index=False)\n"
     ]
    }
   ],
   "source": [
    "electoral_division_gdf.to_file('Data/Shapefiles/clean_electoral_division_gdf.shp', index=False)"
   ]
  },
  {
   "cell_type": "code",
   "execution_count": null,
   "id": "5a8ccbb3",
   "metadata": {},
   "outputs": [],
   "source": []
  }
 ],
 "metadata": {
  "colab": {
   "collapsed_sections": [
    "6f07e49c",
    "48757c64",
    "ec4bb555",
    "d2aefb39",
    "a0c1c46a",
    "cfa59e79",
    "eb854242",
    "45c4e925",
    "996e787d",
    "4d115af5",
    "b02237da",
    "ba3ccbf2",
    "c48228c3",
    "5ddfa88e",
    "1fcf3ee5",
    "fd0c1eb0",
    "e8961f31",
    "09281df7",
    "3a463a38",
    "5427d150",
    "8e97451b",
    "3bad9601",
    "02a1d7b8",
    "e963f63a",
    "f16f45b6"
   ],
   "name": "Copy of BACK-UP creating_final_ppr_data_merging_datasets.ipynb",
   "provenance": []
  },
  "kernelspec": {
   "display_name": "Python 3 (ipykernel)",
   "language": "python",
   "name": "python3"
  },
  "language_info": {
   "codemirror_mode": {
    "name": "ipython",
    "version": 3
   },
   "file_extension": ".py",
   "mimetype": "text/x-python",
   "name": "python",
   "nbconvert_exporter": "python",
   "pygments_lexer": "ipython3",
   "version": "3.9.7"
  }
 },
 "nbformat": 4,
 "nbformat_minor": 5
}
