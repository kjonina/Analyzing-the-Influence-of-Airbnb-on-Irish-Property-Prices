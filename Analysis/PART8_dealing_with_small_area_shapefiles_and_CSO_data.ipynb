{
 "cells": [
  {
   "cell_type": "code",
   "execution_count": null,
   "id": "e8983fa8",
   "metadata": {
    "id": "e8983fa8"
   },
   "outputs": [],
   "source": []
  },
  {
   "cell_type": "code",
   "execution_count": null,
   "id": "539cc6b1",
   "metadata": {
    "id": "539cc6b1"
   },
   "outputs": [],
   "source": [
    "# import packages\n",
    "import numpy as np\n",
    "import geopandas as gpd\n",
    "import pandas as pd\n",
    "import matplotlib.pyplot as plt\n",
    "from shapely.geometry import Point, Polygon, shape\n",
    "import fiona\n",
    "fiona.drvsupport.supported_drivers['libkml'] = 'rw' # enable KML support which is disabled by default\n",
    "fiona.drvsupport.supported_drivers['LIBKML'] = 'rw'\n",
    "\n",
    "import plotly.express as px\n",
    "from plotly.subplots import make_subplots"
   ]
  },
  {
   "cell_type": "markdown",
   "id": "713b51c4",
   "metadata": {
    "id": "713b51c4"
   },
   "source": [
    "## Geodataframe\n",
    "\n",
    "The CSO website was used to extract the Small Area and the LEA information. https://www.cso.ie/en/census/census2016reports/census2016smallareapopulationstatistics/"
   ]
  },
  {
   "cell_type": "markdown",
   "id": "a0c1c46a",
   "metadata": {
    "id": "a0c1c46a"
   },
   "source": [
    "### Small Area\n",
    "The Small Area information was extracted from:\n",
    "https://data-osi.opendata.arcgis.com/datasets/small-areas-generalised-20m-osi-national-statistical-boundaries-2015/explore?location=53.407490%2C-8.379100%2C8.26\n",
    "\n",
    "\n",
    "\n",
    "The file with .json was downloaded.\n"
   ]
  },
  {
   "cell_type": "code",
   "execution_count": null,
   "id": "556e4299",
   "metadata": {
    "id": "556e4299"
   },
   "outputs": [],
   "source": [
    "# reading in the small area .geojson\n",
    "small_area_gdf = gpd.read_file('Data/Shapefiles/small_area.geojson')"
   ]
  },
  {
   "cell_type": "code",
   "execution_count": null,
   "id": "3086ed79",
   "metadata": {
    "id": "3086ed79"
   },
   "outputs": [],
   "source": [
    "small_area_gdf.head(1).transpose()"
   ]
  },
  {
   "cell_type": "code",
   "execution_count": null,
   "id": "c33ff73c",
   "metadata": {
    "id": "c33ff73c"
   },
   "outputs": [],
   "source": [
    "small_area_gdf.columns = small_area_gdf.columns.str.lower()\n",
    "\n",
    "small_area_gdf = small_area_gdf[['guid', 'countyname', 'edname','geometry'#,\n",
    "#                                 'objectid', 'nuts1', 'nuts1name', 'nuts2', \n",
    "#                                  'nuts2name', 'nuts3', 'nuts3name', 'county', \n",
    "#                                  'csoed', 'osied', 'edname','sa_pub2011', \n",
    "#                                  'small_area', 'geogid', 'area', 'changecode', \n",
    "#                                  'esri_oid','shape__area', 'shape__length' \n",
    "                                ]]\n",
    "\n",
    "small_area_gdf['countyname'] = small_area_gdf['countyname'].str.upper()\n",
    "# renaming columns\n",
    "small_area_gdf = small_area_gdf.rename(columns={\"edname\": \"small_area_name\",\n",
    "                                               \"countyname\": \"council\"})\n",
    "\n",
    "small_area_gdf['council'] = small_area_gdf['council'].str.replace('DÚN LAOGHAIRE-RATHDOWN', 'DUN LAOGHAIRE-RATHDOWN')\n",
    "\n",
    "# dropping ' County' from values\n",
    "small_area_gdf['council'] = small_area_gdf['council'] + ' COUNTY COUNCIL'\n",
    "\n",
    "# county\n",
    "small_area_gdf['council'] = small_area_gdf['council'].str.replace(' COUNTY COUNTY', ' COUNTY')\n",
    "small_area_gdf['county'] = small_area_gdf['council'].str.replace(' COUNTY COUNCIL', '')\n",
    "small_area_gdf['county'] = small_area_gdf['county'].str.replace(' CITY', '')\n",
    "\n",
    "small_area_gdf['county'] = small_area_gdf['county'].str.replace('DUN LAOGHAIRE-RATHDOWN', 'DUBLIN')\n",
    "small_area_gdf['county'] = small_area_gdf['county'].str.replace('FINGAL', 'DUBLIN')\n",
    "small_area_gdf['county'] = small_area_gdf['county'].str.replace('SOUTH DUBLIN', 'DUBLIN')\n",
    "\n",
    "small_area_gdf['county'] = small_area_gdf['county'].str.replace('LIMERICK AND', 'LIMERICK')\n",
    "small_area_gdf['county'] = small_area_gdf['county'].str.replace('WATERFORD AND', 'WATERFORD')\n",
    "\n",
    "\n",
    "small_area_gdf['small_area_name'] = small_area_gdf['small_area_name'].str.upper()\n",
    "\n",
    "small_area_gdf = small_area_gdf[['guid','council',  'county', 'small_area_name', 'geometry']]\n",
    "\n",
    "small_area_gdf['electoral_divisions'] = small_area_gdf['small_area_name'] +', CO.'+ small_area_gdf['county']\n",
    "\n",
    "small_area_gdf.head()"
   ]
  },
  {
   "cell_type": "code",
   "execution_count": null,
   "id": "3214fc84",
   "metadata": {
    "id": "3214fc84"
   },
   "outputs": [],
   "source": [
    "small_area_gdf['county'].unique()"
   ]
  },
  {
   "cell_type": "code",
   "execution_count": null,
   "id": "d0ec3ae9",
   "metadata": {
    "id": "d0ec3ae9"
   },
   "outputs": [],
   "source": [
    "small_area_gdf.head(1).transpose()"
   ]
  },
  {
   "cell_type": "markdown",
   "id": "45c4e925",
   "metadata": {
    "id": "45c4e925"
   },
   "source": [
    "#### Area of Small Area "
   ]
  },
  {
   "cell_type": "code",
   "execution_count": null,
   "id": "b8ca9ddf",
   "metadata": {
    "id": "b8ca9ddf"
   },
   "outputs": [],
   "source": [
    "area_small_area_gdf= small_area_gdf.to_crs({'init' :'epsg:2157'}) "
   ]
  },
  {
   "cell_type": "code",
   "execution_count": null,
   "id": "a8d9fa27",
   "metadata": {
    "id": "a8d9fa27"
   },
   "outputs": [],
   "source": [
    "for i in range(len(area_small_area_gdf)):\n",
    "    area_small_area_gdf.loc[i,'area_in_m2'] = shape(area_small_area_gdf.loc[i,'geometry']).area\n",
    "    \n",
    "area_small_area_gdf['area_in_km2'] = area_small_area_gdf['area_in_m2'] /1000000\n",
    "\n",
    "small_area_gdf['small_area_GUID_area_in_km2'] = area_small_area_gdf['area_in_km2']"
   ]
  },
  {
   "cell_type": "code",
   "execution_count": null,
   "id": "18a054a6",
   "metadata": {
    "id": "18a054a6"
   },
   "outputs": [],
   "source": [
    "small_area_gdf.head(1).transpose()"
   ]
  },
  {
   "cell_type": "markdown",
   "id": "5200a3ed",
   "metadata": {
    "id": "5200a3ed"
   },
   "source": [
    "## SAPS CSO Statistics\n",
    "\n",
    "https://www.cso.ie/en/census/census2016reports/census2016smallareapopulationstatistics/\n",
    "\n",
    "Download the full catalogue\n",
    "\n",
    "Glossary is from there"
   ]
  },
  {
   "cell_type": "code",
   "execution_count": null,
   "id": "f01dcc44",
   "metadata": {},
   "outputs": [],
   "source": [
    "cso_glossary = pd.read_excel('Data\\SAPS2016\\SAPS_2016_Glossary.xlsx')\n",
    "cso_glossary"
   ]
  },
  {
   "cell_type": "code",
   "execution_count": null,
   "id": "b5bc0d6b",
   "metadata": {},
   "outputs": [],
   "source": [
    "cso_glossary[['Column Names','Description of Field']]"
   ]
  },
  {
   "cell_type": "code",
   "execution_count": null,
   "id": "6b7dbe38",
   "metadata": {},
   "outputs": [],
   "source": [
    "t6_datata = cso_glossary[['Column Names','Description of Field']][(cso_glossary['Column Names'].str.startswith('T6_')) &\n",
    "                                                     (cso_glossary['Description of Field'].str.contains('households'))]\n",
    "\n",
    "t6_datata['Description of Field'] = t6_datata['Description of Field'].str.replace(' \\(No. of households\\)', '')\n",
    "\n",
    "t6_datata"
   ]
  },
  {
   "cell_type": "code",
   "execution_count": null,
   "id": "38127f34",
   "metadata": {},
   "outputs": [],
   "source": [
    "print(t6_datata['Column Names'].unique())"
   ]
  },
  {
   "cell_type": "code",
   "execution_count": null,
   "id": "f677a4b6",
   "metadata": {},
   "outputs": [],
   "source": [
    "t6_datata['Column Names'][t6_datata['Description of Field'].str.contains('Total')]\n"
   ]
  },
  {
   "cell_type": "code",
   "execution_count": null,
   "id": "cc65dfbb",
   "metadata": {},
   "outputs": [],
   "source": []
  },
  {
   "cell_type": "markdown",
   "id": "cfa59e79",
   "metadata": {
    "id": "cfa59e79"
   },
   "source": [
    "#### CSO Statistics"
   ]
  },
  {
   "cell_type": "code",
   "execution_count": null,
   "id": "c8898e3b",
   "metadata": {
    "id": "c8898e3b"
   },
   "outputs": [],
   "source": [
    "# read the CSV file\n",
    "small_area_cso_df = pd.read_csv('Data\\SAPS2016\\SAPS2016_SA2017.csv') \n",
    "\n",
    "# Will ensure that all columns are displayed\n",
    "pd.set_option('display.max_columns', None) "
   ]
  },
  {
   "cell_type": "code",
   "execution_count": null,
   "id": "92ca0359",
   "metadata": {
    "id": "92ca0359"
   },
   "outputs": [],
   "source": [
    "# getting all columns that start with T6 (related to housig)\n",
    "small_area_cso_df.columns[pd.Series(small_area_cso_df.columns).str.startswith('T6_')]"
   ]
  },
  {
   "cell_type": "code",
   "execution_count": null,
   "id": "217adfd0",
   "metadata": {
    "id": "217adfd0"
   },
   "outputs": [],
   "source": [
    "small_area_cso_df = small_area_cso_df[['GUID', \n",
    "\n",
    "# TYPE OF ACCOMODATION\n",
    "'T6_1_HB_H', 'T6_1_FA_H' ,'T6_1_BS_H', 'T6_1_CM_H','T6_1_NS_H', 'T6_1_TH', \n",
    "\n",
    "# YEAR BUILT                                 \n",
    "'T6_2_PRE19H', 'T6_2_19_45H', 'T6_2_46_60H', 'T6_2_61_70H', 'T6_2_71_80H', \n",
    "'T6_2_81_90H', 'T6_2_91_00H','T6_2_01_10H', 'T6_2_11LH', 'T6_2_NSH', 'T6_2_TH', \n",
    "\n",
    "# TYPE OF OCCUPANCY\n",
    "# 'T6_3_OMLH','T6_3_OOH', 'T6_3_RPLH', 'T6_3_RLAH' ,'T6_3_RVCHBH', 'T6_3_OFRH','T6_3_NSH', 'T6_3_TH',\n",
    "\n",
    "# NUMBER OF ROOMS                                    \n",
    "'T6_4_1RH', 'T6_4_2RH', 'T6_4_3RH','T6_4_4RH', 'T6_4_5RH', 'T6_4_6RH' ,\n",
    " 'T6_4_7RH' ,'T6_4_GE8RH', 'T6_4_NSH', 'T6_4_TH']]"
   ]
  },
  {
   "cell_type": "code",
   "execution_count": null,
   "id": "4c5d931e",
   "metadata": {
    "id": "4c5d931e"
   },
   "outputs": [],
   "source": [
    "small_area_cso_df.columns = ['guid', \n",
    "# TYPE OF ACCOMODATION\n",
    "'House Bungalow', 'Flat Apartment', 'Bed-Sit', 'Caravan Mobile Home', 'Type Of Accommodation Not Stated', 'Total Type Of Accommodation', \n",
    "  \n",
    "# YEAR BUILT  \n",
    "'Pre 1919', '1919-1945', '1946-1960', '1961-1970', '1971-1980', '1981-1990',\n",
    "'1991-2000', '2001-2010', '2011 Or Later', 'Year Built Not Stated','Total Year Built',\n",
    "\n",
    "# TYPE OF OCCUPANCY\n",
    "#        'Owned With Mortgage Or Loan', 'Owned Outright',\n",
    "#        'Rented From Private Landlord ', 'Rented From Local Authority',\n",
    "#        'Rented From Voluntary Co-Operative Housing Body',\n",
    "#        'Occupied Free Of Rent', 'Type Of Occupancy Not Stated', 'Total Type Of Occupancy',\n",
    "\n",
    "# NUMBER OF ROOMS  \n",
    "'1 Room', '2 Rooms', '3 Rooms', '4 Rooms', '5 Rooms', '6 Rooms', '7 Rooms',\n",
    "'8 Or More Rooms', 'Number Of Rooms Not Stated', 'Total Number of Rooms']"
   ]
  },
  {
   "cell_type": "markdown",
   "id": "eb854242",
   "metadata": {
    "id": "eb854242"
   },
   "source": [
    "### Merging  Small Area with CSO"
   ]
  },
  {
   "cell_type": "code",
   "execution_count": null,
   "id": "661233f4",
   "metadata": {},
   "outputs": [],
   "source": [
    "#Merging Small Area with CSO data\n",
    "small_area_gdf_merge = small_area_gdf.merge(small_area_cso_df, left_on='guid', right_on='guid', how='outer')"
   ]
  },
  {
   "cell_type": "code",
   "execution_count": null,
   "id": "b8450267",
   "metadata": {},
   "outputs": [],
   "source": [
    "small_area_gdf_merge.head(1).transpose()"
   ]
  },
  {
   "cell_type": "markdown",
   "id": "28d76b45",
   "metadata": {},
   "source": [
    "### Percentages"
   ]
  },
  {
   "cell_type": "code",
   "execution_count": null,
   "id": "271d0b6e",
   "metadata": {},
   "outputs": [],
   "source": [
    "small_area_gdf_merge.columns = small_area_gdf_merge.columns.str.lower().str.replace(' ', '_').str.replace('-', '_')"
   ]
  },
  {
   "cell_type": "code",
   "execution_count": null,
   "id": "374eed7e",
   "metadata": {},
   "outputs": [],
   "source": [
    "# TYPE OF ACCOMODATION\n",
    "small_area_gdf_merge['house_bungalow_%'] = round(small_area_gdf_merge['house_bungalow']/small_area_gdf_merge['total_type_of_accommodation'],2)\n",
    "small_area_gdf_merge['flat_apartment_%'] = round(small_area_gdf_merge['flat_apartment']/small_area_gdf_merge['total_type_of_accommodation'],2)\n",
    "small_area_gdf_merge['bed_sit_%'] =round(small_area_gdf_merge['bed_sit']/small_area_gdf_merge['total_type_of_accommodation'],2)\n",
    "small_area_gdf_merge['caravan_mobile_home_%']= round(small_area_gdf_merge['caravan_mobile_home']/small_area_gdf_merge['total_type_of_accommodation'],2)\n",
    "small_area_gdf_merge['type_of_accommodation_not_statd_%'] = round(small_area_gdf_merge['type_of_accommodation_not_stated'] /small_area_gdf_merge['total_type_of_accommodation'] ,2)\n",
    "\n",
    "# YEAR BUILT  \n",
    "small_area_gdf_merge['pre_1919_%'] = round(small_area_gdf_merge['pre_1919']/small_area_gdf_merge['total_year_built'],2)\n",
    "small_area_gdf_merge['1919_1945_%'] = round(small_area_gdf_merge['1919_1945']/small_area_gdf_merge['total_year_built'],2)\n",
    "small_area_gdf_merge['1946_1960_%'] =round(small_area_gdf_merge['1946_1960']/small_area_gdf_merge['total_year_built'],2)\n",
    "small_area_gdf_merge['1961_1970_%']= round(small_area_gdf_merge['1961_1970']/small_area_gdf_merge['total_year_built'],2)\n",
    "small_area_gdf_merge['1971_1980_%'] = round(small_area_gdf_merge['1971_1980'] /small_area_gdf_merge['total_year_built'] ,2)\n",
    "small_area_gdf_merge['1981_1990_%'] = round(small_area_gdf_merge['1981_1990']/small_area_gdf_merge['total_year_built'],2)\n",
    "small_area_gdf_merge['1991_2000_%'] = round(small_area_gdf_merge['1991_2000']/small_area_gdf_merge['total_year_built'],2)\n",
    "small_area_gdf_merge['2001_2010_%'] =round(small_area_gdf_merge['2001_2010']/small_area_gdf_merge['total_year_built'],2)\n",
    "small_area_gdf_merge['2011_or_later_%']= round(small_area_gdf_merge['2011_or_later']/small_area_gdf_merge['total_year_built'],2)\n",
    "small_area_gdf_merge['year_built_not_stated_%'] = round(small_area_gdf_merge['type_of_accommodation_not_stated'] /small_area_gdf_merge['total_year_built'] ,2)\n",
    "\n",
    "# NUMBER OF ROOMS \n",
    "small_area_gdf_merge['1_room_%'] = round(small_area_gdf_merge['1_room']/small_area_gdf_merge['total_number_of_rooms'],2)\n",
    "small_area_gdf_merge['2_rooms_%'] = round(small_area_gdf_merge['2_rooms']/small_area_gdf_merge['total_number_of_rooms'],2)\n",
    "small_area_gdf_merge['3_rooms_%'] =round(small_area_gdf_merge['3_rooms']/small_area_gdf_merge['total_number_of_rooms'],2)\n",
    "small_area_gdf_merge['4_rooms_%']= round(small_area_gdf_merge['4_rooms']/small_area_gdf_merge['total_number_of_rooms'],2)\n",
    "small_area_gdf_merge['5_rooms_%'] = round(small_area_gdf_merge['5_rooms'] /small_area_gdf_merge['total_number_of_rooms'] ,2)\n",
    "small_area_gdf_merge['6_rooms_%'] = round(small_area_gdf_merge['6_rooms'] /small_area_gdf_merge['total_number_of_rooms'] ,2)\n",
    "small_area_gdf_merge['7_rooms_%'] = round(small_area_gdf_merge['7_rooms'] /small_area_gdf_merge['total_number_of_rooms'] ,2)\n",
    "small_area_gdf_merge['8_or_more_rooms_%'] = round(small_area_gdf_merge['8_or_more_rooms'] /small_area_gdf_merge['total_number_of_rooms'] ,2)\n",
    "small_area_gdf_merge['number_of_rooms_not_stated_%'] = round(small_area_gdf_merge['number_of_rooms_not_stated'] /small_area_gdf_merge['total_number_of_rooms'] ,2)"
   ]
  },
  {
   "cell_type": "code",
   "execution_count": null,
   "id": "4b9d91a0",
   "metadata": {},
   "outputs": [],
   "source": [
    "# getting all columns that start with T6 (related to housig)\n",
    "small_area_gdf_merge.columns[pd.Series(small_area_gdf_merge.columns).str.endswith('_%')]"
   ]
  },
  {
   "cell_type": "code",
   "execution_count": null,
   "id": "255b198e",
   "metadata": {},
   "outputs": [],
   "source": [
    "small_area_gdf_merge.head(1).transpose()"
   ]
  },
  {
   "cell_type": "code",
   "execution_count": null,
   "id": "3e54c55d",
   "metadata": {},
   "outputs": [],
   "source": [
    "small_area_gdf_merge.columns"
   ]
  },
  {
   "cell_type": "code",
   "execution_count": null,
   "id": "ae1c9978",
   "metadata": {},
   "outputs": [],
   "source": [
    "# small_area_gdf_merge = small_area_gdf_merge[['guid', 'council', 'county', 'small_area_name', 'geometry','house_bungalow_%', 'flat_apartment_%', 'bed-sit_%',\n",
    "#        'caravan_mobile_home_%', 'type_of_accommodation_not_statd_%',\n",
    "#        'pre_1919_%', '1919_1945_%', '1946_1960_%', '1961_1970_%',\n",
    "#        '1971_1980_%', '1981_1990_%', '1991_2000_%', '2001_2010_%',\n",
    "#        '2011_or_later_%', 'year_built_not_stated_%', '1_room_%', '2_rooms_%',\n",
    "#        '3_rooms_%', '4_rooms_%', '5_rooms_%', '6_rooms_%', '7_rooms_%',\n",
    "#        '8_or_more_rooms_%', 'number_of_rooms_not_stated_%', 'small_area_guid_area_in_km2']]#\n",
    "\n"
   ]
  },
  {
   "cell_type": "code",
   "execution_count": null,
   "id": "a3b405da",
   "metadata": {},
   "outputs": [],
   "source": [
    "small_area_gdf_merge['electoral_divisions'] = small_area_gdf_merge['small_area_name']+ ', CO.'+ small_area_gdf_merge['county']"
   ]
  },
  {
   "cell_type": "code",
   "execution_count": null,
   "id": "81fd48bf",
   "metadata": {},
   "outputs": [],
   "source": [
    "small_area_gdf_merge['electoral_divisions']"
   ]
  },
  {
   "cell_type": "code",
   "execution_count": null,
   "id": "430d6849",
   "metadata": {},
   "outputs": [],
   "source": []
  },
  {
   "cell_type": "markdown",
   "id": "150d843a",
   "metadata": {},
   "source": [
    "#### Vacant Dwelligs in 2022"
   ]
  },
  {
   "cell_type": "code",
   "execution_count": null,
   "id": "86d3446e",
   "metadata": {},
   "outputs": [],
   "source": [
    "# read the CSV file\n",
    "vacant_df = pd.read_csv('Data\\SAPS2016\\Vacant_Housing_Data_2022.csv') \n",
    "\n",
    "# Will ensure that all columns are displayed\n",
    "pd.set_option('display.max_columns', None) \n",
    "\n",
    "# renaming columns\n",
    "vacant_df = vacant_df.rename(columns={\n",
    "                            \"Statistic\": \"statistic\" ,   \n",
    "                            \"CensusYear\": \"year\" ,  \n",
    "                            \"Electoral Division\": \"electoral_divisions\",\n",
    "                            \"UNIT\": \"unit\",\n",
    "                            \"VALUE\": \"count\"})\n",
    "\n",
    "vacant_df['electoral_divisions'] = vacant_df['electoral_divisions'].str.upper()\n",
    "vacant_df['statistic'] = vacant_df['statistic'].str.upper()\n",
    "\n",
    "vacant_df['electoral_divisions'] = vacant_df['electoral_divisions'].str.replace('CO\\.CO\\.', 'CO.')\n",
    "\n",
    "\n",
    "vacant_df[['electoral_divisions', 'county', 'ed_id']] = vacant_df['electoral_divisions'].str.split(', ', expand = True)\n",
    "\n",
    "vacant_df['electoral_divisions'] = vacant_df['electoral_divisions'] + ', ' +vacant_df['county'] \n",
    "\n",
    "vacant_df =vacant_df[~(vacant_df['electoral_divisions'].isnull())] \n",
    "\n",
    "vacant_df['electoral_divisions'][vacant_df['electoral_divisions'].str.contains('GUALA MHÓR,, CO.MAYO')] ='GUALA MHÓR, CO.MAYO'\n",
    "vacant_df['electoral_divisions'][vacant_df['electoral_divisions'].str.contains('AIRD MHÓR,, CO.WATERFORD')] ='AIRD MHÓR, CO.WATERFORD'\n",
    "vacant_df['electoral_divisions'][vacant_df['electoral_divisions'].str.contains('AN LEARGAIDH MHÓR,, CO.DONEGAL')] ='AN LEARGAIDH MHÓR, CO.DONEGAL'\n",
    "vacant_df['electoral_divisions'][vacant_df['electoral_divisions'].str.contains('CEANNÚIGH / MÁISTIR GAOITHE,.CO.KERRY')] ='CEANNÚIGH / MÁISTIR GAOITHE, CO.KERRY'\n",
    "\n",
    "# pivoting table\n",
    "vacant_df = pd.pivot_table(vacant_df, values='count', index= ['electoral_divisions'],\n",
    "                    columns=['statistic']).reset_index()\n",
    "\n",
    "vacant_df.columns = vacant_df.columns.str.lower().str.replace(' ', '_')\n",
    "vacant_df = vacant_df.reset_index()\n",
    "\n",
    "# selecting just relevant columns\n",
    "vacant_df = vacant_df[['electoral_divisions', 'vacant_dwellings', 'housing_stock', 'vacancy_rate']]\n",
    "\n",
    "# renaming columns\n",
    "vacant_df = vacant_df.rename(columns={\"vacancy_rate\": \"vacancy_rate_%\"})\n",
    "\n",
    "vacant_df['vacancy_rate_decimal'] = vacant_df['vacancy_rate_%'] / 100\n",
    "\n",
    "\n",
    "vacant_df.head(5)"
   ]
  },
  {
   "cell_type": "code",
   "execution_count": null,
   "id": "190cb2f1",
   "metadata": {},
   "outputs": [],
   "source": []
  },
  {
   "cell_type": "markdown",
   "id": "b0b22fbe",
   "metadata": {},
   "source": [
    "### Merging Vavant Dwelling to CSO"
   ]
  },
  {
   "cell_type": "code",
   "execution_count": null,
   "id": "f09b9c3d",
   "metadata": {},
   "outputs": [],
   "source": [
    "#Merging Small Area with CSO data\n",
    "small_area_gdf_merge = small_area_gdf_merge.merge(vacant_df, left_on='electoral_divisions', right_on='electoral_divisions', how='outer')"
   ]
  },
  {
   "cell_type": "code",
   "execution_count": null,
   "id": "64dca4ae",
   "metadata": {},
   "outputs": [],
   "source": [
    "small_area_gdf_merge.tail(50)"
   ]
  },
  {
   "cell_type": "code",
   "execution_count": null,
   "id": "2ff4696d",
   "metadata": {},
   "outputs": [],
   "source": [
    "blanks = small_area_gdf_merge[['electoral_divisions','electoral_divisions']][(small_area_gdf_merge['electoral_divisions'].isna()) |\n",
    "                         (small_area_gdf_merge['electoral_divisions'].isna())].reset_index(drop = True)\n",
    "blanks.head(50)"
   ]
  },
  {
   "cell_type": "markdown",
   "id": "367841b7",
   "metadata": {},
   "source": [
    "#### Save  Data"
   ]
  },
  {
   "cell_type": "code",
   "execution_count": null,
   "id": "e0d140d1",
   "metadata": {},
   "outputs": [],
   "source": [
    "small_area_gdf_merge.head(1).transpose()"
   ]
  },
  {
   "cell_type": "code",
   "execution_count": null,
   "id": "28671794",
   "metadata": {},
   "outputs": [],
   "source": [
    "# small_area_gdf_merge.to_file('Data/Shapefiles/clean_small_area_gdf.geojson', index=False)"
   ]
  },
  {
   "cell_type": "code",
   "execution_count": null,
   "id": "e04615bc",
   "metadata": {},
   "outputs": [],
   "source": [
    "small_area_gdf_merge.columns"
   ]
  },
  {
   "cell_type": "markdown",
   "id": "fc21da63",
   "metadata": {},
   "source": [
    "#### Vacant Dwelling"
   ]
  },
  {
   "cell_type": "code",
   "execution_count": null,
   "id": "bda45fc2",
   "metadata": {
    "scrolled": false
   },
   "outputs": [],
   "source": [
    "vacant_df = small_area_gdf_merge[['guid', 'council', 'county', 'small_area_name', 'geometry',\n",
    "                                                           'vacant_dwellings', 'housing_stock','vacancy_rate_%', 'vacancy_rate_decimal']]\n",
    "\n",
    "\n",
    "vacant_df.head() "
   ]
  },
  {
   "cell_type": "code",
   "execution_count": null,
   "id": "1e8389a0",
   "metadata": {},
   "outputs": [],
   "source": [
    "vacant_df.to_csv('Data/clean_vacant_dwellings.csv', index=False)"
   ]
  },
  {
   "cell_type": "code",
   "execution_count": null,
   "id": "b50214d5",
   "metadata": {},
   "outputs": [],
   "source": [
    "vacant_df.to_file('Data/Shapefiles/Small Area Sub-Data/clean_vacant_dwellings.geojson', index=False)"
   ]
  },
  {
   "cell_type": "code",
   "execution_count": null,
   "id": "7f15189b",
   "metadata": {},
   "outputs": [],
   "source": []
  },
  {
   "cell_type": "code",
   "execution_count": null,
   "id": "a4348dcc",
   "metadata": {},
   "outputs": [],
   "source": []
  },
  {
   "cell_type": "markdown",
   "id": "8e060852",
   "metadata": {},
   "source": [
    "### Smaller parts of CSO and Melted"
   ]
  },
  {
   "cell_type": "markdown",
   "id": "858d1237",
   "metadata": {},
   "source": [
    "##### Accomodation"
   ]
  },
  {
   "cell_type": "code",
   "execution_count": null,
   "id": "d5ac0f96",
   "metadata": {},
   "outputs": [],
   "source": [
    "small_area_cso_df_accomodation = small_area_gdf_merge[['guid', 'council', 'county', 'small_area_name', 'geometry',\n",
    "'house_bungalow', 'flat_apartment', 'bed_sit', 'caravan_mobile_home', \n",
    " 'type_of_accommodation_not_stated', 'total_type_of_accommodation']]\n",
    "\n",
    "\n",
    "small_area_cso_df_accomodation = pd.melt(small_area_cso_df_accomodation, id_vars=['guid', 'council', 'county', 'small_area_name', 'geometry'],\n",
    "       value_vars = [ 'house_bungalow', 'flat_apartment', 'bed_sit',\n",
    "       'caravan_mobile_home', 'type_of_accommodation_not_stated', 'total_type_of_accommodation'],\n",
    "                                         var_name = 'accomodation', value_name='count')\n",
    "small_area_cso_df_accomodation.head()"
   ]
  },
  {
   "cell_type": "code",
   "execution_count": null,
   "id": "7f1a26f4",
   "metadata": {},
   "outputs": [],
   "source": [
    "small_area_cso_df_accomodation.to_file('Data\\Shapefiles\\Small Area Sub-Data\\small_area_cso_df_accomodation.geojson', index=False)"
   ]
  },
  {
   "cell_type": "markdown",
   "id": "50d67f40",
   "metadata": {},
   "source": [
    "##### Year Built"
   ]
  },
  {
   "cell_type": "code",
   "execution_count": null,
   "id": "2517120e",
   "metadata": {},
   "outputs": [],
   "source": [
    "small_area_cso_df_year_built = small_area_gdf_merge[['guid', 'council', 'county', 'small_area_name', 'geometry',\n",
    "                                                     'pre_1919', '1919_1945', '1946_1960', '1961_1970', \n",
    "                                                     '1971_1980','1981_1990', '1991_2000', '2001_2010', \n",
    "                                                     '2011_or_later', 'year_built_not_stated', 'total_year_built' ]]\n",
    "\n",
    "small_area_cso_df_year_built = pd.melt(small_area_cso_df_year_built, id_vars=['guid', 'council', 'county', 'small_area_name', 'geometry'],\n",
    "                                    value_vars = ['pre_1919', '1919_1945', '1946_1960', '1961_1970', \n",
    "                                                 '1971_1980','1981_1990', '1991_2000', '2001_2010', \n",
    "                                                 '2011_or_later', 'year_built_not_stated','total_year_built'],\n",
    "                                                  var_name = 'year_built', value_name='count')\n",
    "                                         \n",
    "small_area_cso_df_year_built.head()     "
   ]
  },
  {
   "cell_type": "code",
   "execution_count": null,
   "id": "3e36d160",
   "metadata": {},
   "outputs": [],
   "source": [
    "small_area_cso_df_year_built.to_file('Data\\Shapefiles\\Small Area Sub-Data\\small_area_cso_df_year_built.geojson', index=False)"
   ]
  },
  {
   "cell_type": "code",
   "execution_count": null,
   "id": "cb473ce5",
   "metadata": {},
   "outputs": [],
   "source": []
  },
  {
   "cell_type": "markdown",
   "id": "1a79fb9d",
   "metadata": {},
   "source": [
    "##### Number of Rooms"
   ]
  },
  {
   "cell_type": "code",
   "execution_count": null,
   "id": "075ff668",
   "metadata": {},
   "outputs": [],
   "source": [
    "small_area_cso_df_number_of_rooms = small_area_gdf_merge[['guid', 'council', 'county', 'small_area_name', 'geometry',\n",
    "                                    '1_room', '2_rooms','3_rooms', '4_rooms', '5_rooms', '6_rooms', '7_rooms',\n",
    "                                    '8_or_more_rooms', 'number_of_rooms_not_stated','total_number_of_rooms' ]]\n",
    "\n",
    "\n",
    "small_area_cso_df_number_of_rooms = pd.melt(small_area_cso_df_number_of_rooms, id_vars=['guid', 'council', 'county', 'small_area_name', 'geometry'],\n",
    "       value_vars = [ '1_room', '2_rooms', '3_rooms', '4_rooms', '5_rooms', '6_rooms', '7_rooms',\n",
    "       '8_or_more_rooms', 'number_of_rooms_not_stated', 'total_number_of_rooms'],\n",
    "                                            var_name = 'number_of_rooms', value_name='count')\n",
    "\n",
    "small_area_cso_df_number_of_rooms.head() "
   ]
  },
  {
   "cell_type": "code",
   "execution_count": null,
   "id": "73af1212",
   "metadata": {},
   "outputs": [],
   "source": [
    "small_area_cso_df_number_of_rooms.to_file('Data\\Shapefiles\\Small Area Sub-Data\\small_area_cso_df_number_of_rooms.geojson', index=False)"
   ]
  },
  {
   "cell_type": "code",
   "execution_count": null,
   "id": "a5f37477",
   "metadata": {},
   "outputs": [],
   "source": []
  },
  {
   "cell_type": "code",
   "execution_count": null,
   "id": "7739312b",
   "metadata": {},
   "outputs": [],
   "source": []
  }
 ],
 "metadata": {
  "colab": {
   "collapsed_sections": [
    "6f07e49c",
    "48757c64",
    "ec4bb555",
    "d2aefb39",
    "a0c1c46a",
    "cfa59e79",
    "eb854242",
    "45c4e925",
    "996e787d",
    "4d115af5",
    "b02237da",
    "ba3ccbf2",
    "c48228c3",
    "5ddfa88e",
    "1fcf3ee5",
    "fd0c1eb0",
    "e8961f31",
    "09281df7",
    "3a463a38",
    "5427d150",
    "8e97451b",
    "3bad9601",
    "02a1d7b8",
    "e963f63a",
    "f16f45b6"
   ],
   "name": "Copy of BACK-UP creating_final_ppr_data_merging_datasets.ipynb",
   "provenance": []
  },
  "kernelspec": {
   "display_name": "Python 3 (ipykernel)",
   "language": "python",
   "name": "python3"
  },
  "language_info": {
   "codemirror_mode": {
    "name": "ipython",
    "version": 3
   },
   "file_extension": ".py",
   "mimetype": "text/x-python",
   "name": "python",
   "nbconvert_exporter": "python",
   "pygments_lexer": "ipython3",
   "version": "3.9.7"
  }
 },
 "nbformat": 4,
 "nbformat_minor": 5
}
