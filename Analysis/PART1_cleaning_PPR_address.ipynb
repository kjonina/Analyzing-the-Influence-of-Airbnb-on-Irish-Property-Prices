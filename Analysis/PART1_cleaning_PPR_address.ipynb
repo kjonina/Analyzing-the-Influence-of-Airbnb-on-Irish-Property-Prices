{
 "cells": [
  {
   "cell_type": "markdown",
   "id": "18eef1ae",
   "metadata": {},
   "source": [
    "\n",
    "\n",
    "# Impact of AirBnB on the Prices of Houses in Dublin between June 2021 and May 2022\n",
    "\n",
    "- Student Name: Karina Jonina\n",
    "- Student Code: c00278440\n",
    "- Module Title: Dissertation\n",
    "- Module Code: DISSC5201\n",
    "- Supervisor: Dr Oisin Cawley\n",
    "- Course Name: Master of Science in Data Science\n",
    "- Course Code: CW_KCDAR_M\n",
    "- Assignment Weighting: 100%\n",
    "- Due Date: 15th August 2022"
   ]
  },
  {
   "cell_type": "markdown",
   "id": "c31dd900",
   "metadata": {},
   "source": [
    "# Residential Property Price Register\n",
    "\n",
    "The dataset collected from https://www.propertypriceregister.ie/ has a lot of errors."
   ]
  },
  {
   "cell_type": "code",
   "execution_count": null,
   "id": "c832d332",
   "metadata": {},
   "outputs": [],
   "source": [
    "# import packages\n",
    "import numpy as np\n",
    "import pandas as pd\n",
    "import matplotlib\n",
    "import datetime\n",
    "import plotly.express as px\n",
    "from plotly.subplots import make_subplots\n",
    "import plotly.graph_objs as go\n",
    "import re\n",
    "import geopandas as gpd\n",
    "\n",
    "# # Will ensure that all rows are displayed\n",
    "# pd.set_option('display.max_rows', None) \n",
    "\n",
    "# Will ensure that all columns are displayed\n",
    "pd.set_option('display.max_columns', None) \n",
    "\n",
    "pd.set_option('display.float_format', lambda x: '%.5f' % x)"
   ]
  },
  {
   "cell_type": "code",
   "execution_count": null,
   "id": "86ce7acd",
   "metadata": {},
   "outputs": [],
   "source": [
    "# read the CSV file\n",
    "ppr = pd.read_csv('data/PPR-ALL.csv', \n",
    "                  parse_dates = ['Date of Sale (dd/mm/yyyy)'], \n",
    "                  low_memory=False)\n",
    "\n",
    "# Will ensure that all columns are displayed\n",
    "pd.set_option('display.max_columns', None) "
   ]
  },
  {
   "cell_type": "code",
   "execution_count": null,
   "id": "8a447161",
   "metadata": {},
   "outputs": [],
   "source": [
    "# renaming columns\n",
    "ppr = ppr.rename(columns={\"Date of Sale (dd/mm/yyyy)\" : \"date\",\n",
    "                         \"Address\":\"address\",\n",
    "                         \"County\":\"county\",\n",
    "                         \"Eircode\":\"eircode\",\n",
    "                         \"Price (€)\":\"price\",\n",
    "                         \"Not Full Market Price\":\"not_full_market_price\",\n",
    "                         \"VAT Exclusive\":\"vat_exclusive\",\n",
    "                         \"Description of Property\":\"description\",\n",
    "                         \"Property Size Description\":\"size_description\"})"
   ]
  },
  {
   "cell_type": "code",
   "execution_count": null,
   "id": "b8cfcb4f",
   "metadata": {},
   "outputs": [],
   "source": [
    "ppr.info()"
   ]
  },
  {
   "cell_type": "code",
   "execution_count": null,
   "id": "bb0efff7",
   "metadata": {},
   "outputs": [],
   "source": [
    "# checking shape\n",
    "print(\"The dataset has {} rows and {} columns.\".format(*ppr.shape))"
   ]
  },
  {
   "cell_type": "markdown",
   "id": "95357194",
   "metadata": {},
   "source": [
    "### Month_Year"
   ]
  },
  {
   "cell_type": "code",
   "execution_count": null,
   "id": "d94a49b3",
   "metadata": {},
   "outputs": [],
   "source": [
    "# getting month_year in ppr\n",
    "ppr['month_year'] = pd.to_datetime(ppr['date']).dt.to_period('M')\n",
    "\n",
    "# change the month_year to string\n",
    "ppr['month_year'] = ppr['month_year'].astype(str)"
   ]
  },
  {
   "cell_type": "code",
   "execution_count": null,
   "id": "b5cae0b4",
   "metadata": {},
   "outputs": [],
   "source": [
    "# counting unique address sold in that month_year in Dublin\n",
    "ppr_count = ppr.groupby(['month_year'])['address'].nunique().to_frame('count').reset_index()\n",
    "print(ppr_count)"
   ]
  },
  {
   "cell_type": "code",
   "execution_count": null,
   "id": "4251d521",
   "metadata": {},
   "outputs": [],
   "source": [
    "fig = go.Figure()\n",
    "\n",
    "# Lineplots of number of houses\n",
    "fig.add_trace(go.Scatter(\n",
    "                        x = ppr_count['month_year'],\n",
    "                        y = ppr_count['count'],\n",
    "                        mode='lines',\n",
    "                        name ='ALl of Ireland',\n",
    "                        hovertemplate=\"<b>Property Sales</b><br><br>\" +\n",
    "                                        \"Date: %{x|%b %Y} <br>\" +\n",
    "                                        \"Number of Sales: %{y}<br>\" +\n",
    "                                        \"<extra></extra>\",\n",
    "                        #line = dict(color=\"black\")\n",
    "                        ))\n",
    "# Add title\n",
    "fig.update_layout(\n",
    "        title = 'Number of Properties Sold since 2010',\n",
    "        title_font_size=30)\n",
    "# X-Axes\n",
    "fig.update_xaxes(\n",
    "    rangeslider_visible = True,\n",
    "    rangeselector = dict(\n",
    "        buttons = list([\n",
    "                        dict(count = 3, step = \"month\", stepmode = \"backward\", label = \"3M\"),\n",
    "                        dict(count = 6, step = \"month\", stepmode = \"backward\", label = \"6M\"),\n",
    "                        dict(count = 1, step = \"year\", stepmode = \"backward\", label = \"1Y\"),\n",
    "                        dict(count = 2, step = \"year\", stepmode = \"backward\", label = \"2Y\"),\n",
    "                        dict(count = 3, step = \"year\", stepmode = \"backward\", label = \"3Y\"),\n",
    "                        dict(count = 5, step = \"year\", stepmode = \"backward\", label = \"5Y\"),\n",
    "                        dict(count = 7, step = \"year\", stepmode = \"backward\", label = \"7Y\"),\n",
    "                        dict(count = 1, step = \"all\", stepmode = \"backward\", label = \"MAX\"),\n",
    "                        dict(count = 1, step = \"year\", stepmode = \"todate\", label = \"YTD\")])))\n",
    "\n",
    "fig.update_layout(xaxis_rangeslider_visible = False)\n",
    "fig.update_yaxes(title = 'Number of Properties')\n",
    "\n",
    "#Show\n",
    "fig.show()\n"
   ]
  },
  {
   "cell_type": "code",
   "execution_count": null,
   "id": "e0a8d170",
   "metadata": {},
   "outputs": [],
   "source": [
    "# counting unique address sold in that month_year in Dublin\n",
    "ppr_count = ppr[ppr['date']>='2021/07/01'].groupby(['month_year'])['address'].nunique().to_frame('count').reset_index()\n",
    "                           \n",
    "fig = go.Figure()\n",
    "\n",
    "# Lineplots of number of houses\n",
    "fig.add_trace(go.Scatter(\n",
    "                        x = ppr_count['month_year'],\n",
    "                        y = ppr_count['count'],\n",
    "                        mode='lines',\n",
    "                        name ='ALl of Ireland',\n",
    "                        hovertemplate=\"<b>Property Sales</b><br><br>\" +\n",
    "                                        \"Date: %{x|%b %Y} <br>\" +\n",
    "                                        \"Number of Sales: %{y}<br>\" +\n",
    "                                        \"<extra></extra>\",\n",
    "                        #line = dict(color=\"black\")\n",
    "                        ))\n",
    "# Add title\n",
    "fig.update_layout(\n",
    "        title = 'Number of Properties Sold since 2010',\n",
    "        title_font_size=30)\n",
    "\n",
    "fig.update_yaxes(title = 'Number of Properties')\n",
    "\n",
    "#Show\n",
    "fig.show()\n"
   ]
  },
  {
   "cell_type": "code",
   "execution_count": null,
   "id": "06863bf2",
   "metadata": {},
   "outputs": [],
   "source": []
  },
  {
   "cell_type": "code",
   "execution_count": null,
   "id": "f26d5fa8",
   "metadata": {},
   "outputs": [],
   "source": [
    "print(ppr_count)"
   ]
  },
  {
   "cell_type": "code",
   "execution_count": null,
   "id": "69eb684b",
   "metadata": {},
   "outputs": [],
   "source": []
  },
  {
   "cell_type": "code",
   "execution_count": null,
   "id": "ba62de4a",
   "metadata": {},
   "outputs": [],
   "source": []
  },
  {
   "cell_type": "markdown",
   "id": "d67e4d67",
   "metadata": {},
   "source": [
    "### Exploring the number of Eircodes post 1st January 2015 "
   ]
  },
  {
   "cell_type": "code",
   "execution_count": null,
   "id": "80ce46ba",
   "metadata": {},
   "outputs": [],
   "source": [
    "ppr_post_2015 = ppr[ppr['date']>='2015/05/01'] # the df of Airbnb calendar\n",
    "ppr_post_2015.head()"
   ]
  },
  {
   "cell_type": "code",
   "execution_count": null,
   "id": "de5ba923",
   "metadata": {},
   "outputs": [],
   "source": [
    "ppr_post_2015['eircode']  = ppr_post_2015['eircode'].fillna('Eircode Unavailable') \n",
    "\n",
    "# trying to create the\n",
    "ppr_post_2015.loc[ppr_post_2015['eircode'].str.contains('Eircode Unavailable'), 'eircode_availability'] = 'Eircode Unavailable'\n",
    "\n",
    "# Trying to create  \n",
    "ppr_post_2015.loc[ppr_post_2015['eircode_availability'].isnull(), 'eircode_availability'] = 'Eircode Available'\n",
    "\n",
    "# ppr_post_2015_eircode.eircode_availability.value_counts(normalize=True)\n",
    "ppr_post_2015_eircode = ppr_post_2015.groupby(['eircode_availability']).size().to_frame('count').sort_values(by= 'count', ascending=False)\n",
    "ppr_post_2015_eircode = pd.DataFrame(ppr_post_2015_eircode)\n",
    "ppr_post_2015_eircode = ppr_post_2015_eircode.reset_index(drop=False)\n",
    "\n",
    "\n",
    "ppr_post_2015_eircode['% of missing eircodes'] = ppr_post_2015_eircode['count'] / ppr_post_2015_eircode['count'].sum()\n",
    "ppr_post_2015_eircode "
   ]
  },
  {
   "cell_type": "code",
   "execution_count": null,
   "id": "1654b265",
   "metadata": {},
   "outputs": [],
   "source": [
    "# eircode\n",
    "\n",
    "fig = px.bar(x = ppr_post_2015_eircode['eircode_availability'], \n",
    "             y =  ppr_post_2015_eircode[\"count\"])\n",
    "\n",
    "fig.update_layout(title = \"Breakdown of Eircode Availability\",\n",
    "                  yaxis_title = 'Number of Properties', \n",
    "                  xaxis_title =  None, \n",
    "                  barmode='group')\n",
    "fig.update_layout(height=600, width=600)\n",
    "fig.show()"
   ]
  },
  {
   "cell_type": "markdown",
   "id": "07757fca",
   "metadata": {},
   "source": [
    "### Irish Spelling of Words"
   ]
  },
  {
   "cell_type": "code",
   "execution_count": null,
   "id": "bc8bd3c5",
   "metadata": {},
   "outputs": [],
   "source": [
    "for i in ppr['address'][ppr['address'].str.contains('Á')].head(5):\n",
    "    print(i)"
   ]
  },
  {
   "cell_type": "markdown",
   "id": "d2fc75be",
   "metadata": {},
   "source": [
    "### Address"
   ]
  },
  {
   "cell_type": "code",
   "execution_count": null,
   "id": "a6afd6f6",
   "metadata": {},
   "outputs": [],
   "source": [
    "# changing address to upper case\n",
    "ppr['address'] = ppr.loc[:, ('address')].str.upper()\n",
    "\n",
    "# replacing double spaces with single spaces\n",
    "ppr['address'] = ppr['address'].str.replace('  ',' ')"
   ]
  },
  {
   "cell_type": "code",
   "execution_count": null,
   "id": "6858737a",
   "metadata": {},
   "outputs": [],
   "source": [
    "ppr['county'].unique()"
   ]
  },
  {
   "cell_type": "code",
   "execution_count": null,
   "id": "64609469",
   "metadata": {},
   "outputs": [],
   "source": [
    "ppr['address'] = ppr['address'].str.replace('.', '')"
   ]
  },
  {
   "cell_type": "code",
   "execution_count": null,
   "id": "61e31e78",
   "metadata": {},
   "outputs": [],
   "source": [
    "# changing county to upper case\n",
    "ppr['county'] = ppr.loc[:, ('county')].str.upper()"
   ]
  },
  {
   "cell_type": "markdown",
   "id": "369b1d91",
   "metadata": {},
   "source": [
    "### Cleaning Miscategorised Countries"
   ]
  },
  {
   "cell_type": "markdown",
   "id": "673ac975",
   "metadata": {},
   "source": [
    "##### Issues\n",
    "Some properties have 'Louth' in their value but the county code is 'Meath'. These need to be changed and dropped from the dataset as Louth is not part of the Greater Dublin Area."
   ]
  },
  {
   "cell_type": "code",
   "execution_count": null,
   "id": "1fcdae1a",
   "metadata": {},
   "outputs": [],
   "source": [
    "ppr[ppr['address'].str.contains('16 PRESTON MILL, DROGHEDA, LOUTH')]"
   ]
  },
  {
   "cell_type": "code",
   "execution_count": null,
   "id": "1d887e6c",
   "metadata": {},
   "outputs": [],
   "source": [
    "ppr[ppr['address'].str.contains('4 BLACKBUSH AVENUE, DROGHEDA, LOUTH')]"
   ]
  },
  {
   "cell_type": "code",
   "execution_count": null,
   "id": "cf9986eb",
   "metadata": {},
   "outputs": [],
   "source": [
    "ppr[ppr['address'].str.contains('23 LAGAVOOREN MANOR, DROGHEDA, LOUTH')]"
   ]
  },
  {
   "cell_type": "code",
   "execution_count": null,
   "id": "89126474",
   "metadata": {},
   "outputs": [],
   "source": [
    "ppr[ppr['address'].str.contains('33 OAK HILL, GOREY, COUNTY WEXFORD')]"
   ]
  },
  {
   "cell_type": "code",
   "execution_count": null,
   "id": "22946b53",
   "metadata": {},
   "outputs": [],
   "source": [
    "ppr[ppr['address'].str.contains('CORNARONE, INVERIN, CONNEMARA')]\n",
    "\n",
    "ppr['county'][ppr['address'].str.contains('CORNARONE, INVERIN, CONNEMARA')] = 'GALWAY'"
   ]
  },
  {
   "cell_type": "code",
   "execution_count": null,
   "id": "43a821f0",
   "metadata": {},
   "outputs": [],
   "source": [
    "ppr[ppr['address'].str.contains('4 SEACLIFF, DUNMORE EAST, CO WATERFORD')]"
   ]
  },
  {
   "cell_type": "code",
   "execution_count": null,
   "id": "81250acf",
   "metadata": {},
   "outputs": [],
   "source": [
    "ppr[ppr['address'].str.contains('30 STONEYFORD PARK, DELVIN, COUNTY WESTMEATH')]\n",
    "# these are not necessary duplicates, the house could have been resold... "
   ]
  },
  {
   "cell_type": "markdown",
   "id": "e0ac4680",
   "metadata": {},
   "source": [
    "#### Country "
   ]
  },
  {
   "cell_type": "code",
   "execution_count": null,
   "id": "7658f4c2",
   "metadata": {},
   "outputs": [],
   "source": [
    "country_list = list(ppr['county'].unique())"
   ]
  },
  {
   "cell_type": "code",
   "execution_count": null,
   "id": "e59b4cda",
   "metadata": {},
   "outputs": [],
   "source": [
    "for county in country_list:   \n",
    "    print(county)"
   ]
  },
  {
   "cell_type": "code",
   "execution_count": null,
   "id": "f646fe0f",
   "metadata": {},
   "outputs": [],
   "source": []
  },
  {
   "cell_type": "markdown",
   "id": "deeaaf66",
   "metadata": {},
   "source": [
    "### Exploring Duplicates"
   ]
  },
  {
   "cell_type": "code",
   "execution_count": null,
   "id": "9b97ff57",
   "metadata": {},
   "outputs": [],
   "source": [
    "# ... and duplicates\n",
    "print(\"This dataset contains {} duplicates of the same address.\".format(ppr['address'].duplicated().sum()))"
   ]
  },
  {
   "cell_type": "code",
   "execution_count": null,
   "id": "0b18c17b",
   "metadata": {},
   "outputs": [],
   "source": [
    "ppr_month_count = ppr.groupby(['month_year'])['address'].size().to_frame('count').reset_index()\n",
    "\n",
    "fig = px.line(ppr_month_count, x=\"month_year\", y=\"count\", title='Number of houses')\n",
    "fig.show()"
   ]
  },
  {
   "cell_type": "markdown",
   "id": "b4631d66",
   "metadata": {},
   "source": [
    "### Type"
   ]
  },
  {
   "cell_type": "code",
   "execution_count": null,
   "id": "861f77ab",
   "metadata": {},
   "outputs": [],
   "source": [
    "ppr.groupby(['description']).size()"
   ]
  },
  {
   "cell_type": "code",
   "execution_count": null,
   "id": "82be09a5",
   "metadata": {},
   "outputs": [],
   "source": [
    "ppr['description'].unique()"
   ]
  },
  {
   "cell_type": "code",
   "execution_count": null,
   "id": "ce7a63ba",
   "metadata": {},
   "outputs": [],
   "source": [
    "# replacing text from Irish to English.\n",
    "ppr['description'] = ppr['description'].str.replace('Teach/Árasán Cónaithe Nua', 'New Dwelling house /Apartment')\n",
    "ppr['description'] = ppr['description'].str.replace('Teach/Árasán Cónaithe Atháimhe', 'Second-Hand Dwelling house /Apartment')\n",
    "\n",
    "\n",
    "# ppr['description'][ppr['description'].str.contains('Teach/')]\n",
    "\n",
    "# replacing 'Teach/?ras?n C?naithe Nua'\n",
    "ppr['description'][ppr['description'].str.contains('Teach/')] = 'New Dwelling house /Apartment'"
   ]
  },
  {
   "cell_type": "code",
   "execution_count": null,
   "id": "36624687",
   "metadata": {},
   "outputs": [],
   "source": [
    "# filling all NaNs with 'Unknown Size'\n",
    "ppr['description']= ppr['description'].fillna('Unknown Description')"
   ]
  },
  {
   "cell_type": "code",
   "execution_count": null,
   "id": "246ac873",
   "metadata": {},
   "outputs": [],
   "source": [
    "ppr['description'].unique()"
   ]
  },
  {
   "cell_type": "code",
   "execution_count": null,
   "id": "fd1a384a",
   "metadata": {},
   "outputs": [],
   "source": [
    "# DESCRIPTION\n",
    "ppr_description = ppr.groupby(['description']).size().to_frame('count').sort_values(by= 'count', ascending=False)\n",
    "ppr_description = pd.DataFrame(ppr_description)\n",
    "ppr_description = ppr_description.reset_index(drop=False)\n",
    "ppr_description['% of description'] = ppr_description['count'] /ppr_description['count'].sum()\n",
    "print(ppr_description)\n",
    "# GRAPH\n",
    "fig = px.bar(x = ppr_description['description'], \n",
    "             y =  ppr_description[\"count\"])\n",
    "\n",
    "fig.update_layout(title = \"Breakdown of Property Description\",\n",
    "                  yaxis_title = 'Number of Properties', \n",
    "                  xaxis_title =  None, \n",
    "                  barmode='group')\n",
    "fig.update_layout(height=600, width=600)\n",
    "fig.show()"
   ]
  },
  {
   "cell_type": "markdown",
   "id": "f9e8dd01",
   "metadata": {},
   "source": [
    "### Size"
   ]
  },
  {
   "cell_type": "code",
   "execution_count": null,
   "id": "0c247c11",
   "metadata": {},
   "outputs": [],
   "source": [
    "ppr['size_description'].unique()"
   ]
  },
  {
   "cell_type": "code",
   "execution_count": null,
   "id": "f7da4f21",
   "metadata": {},
   "outputs": [],
   "source": [
    "ppr.groupby(['size_description']).size()"
   ]
  },
  {
   "cell_type": "code",
   "execution_count": null,
   "id": "98f862cc",
   "metadata": {},
   "outputs": [],
   "source": [
    "# filling all NaNs with 'Unknown Size'\n",
    "ppr['size_description']= ppr['size_description'].fillna('Unknown Size')"
   ]
  },
  {
   "cell_type": "code",
   "execution_count": null,
   "id": "5dc29b30",
   "metadata": {},
   "outputs": [],
   "source": [
    "# replacing 'níos mó ná nó cothrom le 38 méadar cearnach agus níos lú ná 125 méadar cearnach'\n",
    "ppr['size_description'] = ppr['size_description'].str.replace('níos mó ná nó cothrom le 38 méadar cearnach agus níos lú ná 125 méadar cearnach', \n",
    "                                                              'greater than or equal to 38 sq metres and less than 125 sq metres')\n",
    "\n",
    "# very similar size so they were combined\n",
    "ppr['size_description'] = ppr['size_description'].str.replace('greater than 125 sq metres', \n",
    "                                                              'greater than or equal to 125 sq metres')\n",
    "\n",
    "\n",
    "# replacing a 'n?os l? n? 38 m?adar cearnach' with  'less than 38 sq metres'\n",
    "ppr['size_description'][ppr['size_description'].str.contains('cearnach')] = 'less than 38 sq metres'"
   ]
  },
  {
   "cell_type": "code",
   "execution_count": null,
   "id": "5e316e28",
   "metadata": {},
   "outputs": [],
   "source": [
    "ppr['size_description'].unique()"
   ]
  },
  {
   "cell_type": "code",
   "execution_count": null,
   "id": "8268516a",
   "metadata": {},
   "outputs": [],
   "source": [
    "# SIZE DESCRIPTION\n",
    "ppr_size_description = ppr.groupby(['size_description']).size().to_frame('count').sort_values(by= 'count', ascending=False)\n",
    "ppr_size_description = pd.DataFrame(ppr_size_description)\n",
    "ppr_size_description = ppr_size_description.reset_index(drop=False)\n",
    "ppr_size_description['% of size_description'] = ppr_size_description['count'] /ppr_description['count'].sum()\n",
    "print(ppr_size_description)\n",
    "\n",
    "#GRAPH\n",
    "ppr_size_description = ppr.groupby(['size_description']).size().to_frame('count').sort_values(by= 'count', ascending=False)\n",
    "ppr_size_description = pd.DataFrame(ppr_size_description)\n",
    "ppr_size_description = ppr_size_description.reset_index(drop=False)\n",
    "\n",
    "fig = px.bar(x = ppr_size_description['size_description'], \n",
    "             y =  ppr_size_description[\"count\"])\n",
    "\n",
    "fig.update_layout(title = \"Breakdown of Size Description\",\n",
    "                  yaxis_title = 'Number of Properties Sold', \n",
    "                  xaxis_title =  None, \n",
    "                  barmode='group')\n",
    "\n",
    "# fig.update_layout(height = 600, width= 1000)\n",
    "fig.show()"
   ]
  },
  {
   "cell_type": "markdown",
   "id": "7e082214",
   "metadata": {},
   "source": [
    "## Eircode "
   ]
  },
  {
   "cell_type": "code",
   "execution_count": null,
   "id": "75d0c001",
   "metadata": {},
   "outputs": [],
   "source": [
    "ppr['eircode']  = ppr['eircode'].fillna('EIRCODE UNAVAILABLE') "
   ]
  },
  {
   "cell_type": "code",
   "execution_count": null,
   "id": "332ce32b",
   "metadata": {},
   "outputs": [],
   "source": [
    "# trying to create the\n",
    "ppr.loc[ppr['eircode'].str.contains('EIRCODE UNAVAILABLE'), 'eircode_availability'] = 'EIRCODE UNAVAILABLE'\n",
    "\n",
    "# Trying to create  \n",
    "ppr.loc[ppr['eircode_availability'].isnull(), 'eircode_availability'] = 'EIRCODE AVAILABLE'"
   ]
  },
  {
   "cell_type": "code",
   "execution_count": null,
   "id": "1f27770b",
   "metadata": {},
   "outputs": [],
   "source": [
    "ppr['eircode'].unique()"
   ]
  },
  {
   "cell_type": "code",
   "execution_count": null,
   "id": "34331eca",
   "metadata": {},
   "outputs": [],
   "source": [
    "# EIRCODE\n",
    "ppr_eircode = ppr.groupby(['eircode_availability']).size().to_frame('count').sort_values(by= 'count', ascending=False)\n",
    "ppr_eircode = pd.DataFrame(ppr_eircode)\n",
    "ppr_eircode = ppr_eircode.reset_index(drop=False)\n",
    "ppr_eircode['% of missing eircodes'] = ppr_eircode['count'] /ppr_eircode['count'].sum()\n",
    "print(ppr_eircode)\n",
    "\n",
    "# GRAP\n",
    "fig = px.bar(x = ppr_eircode['eircode_availability'], \n",
    "             y =  ppr_eircode[\"count\"])\n",
    "\n",
    "fig.update_layout(title = \"Breakdown of Eircode Availability\",\n",
    "                  yaxis_title = 'Number of Properties', \n",
    "                  xaxis_title =  None, \n",
    "                  barmode='group')\n",
    "fig.update_layout(height=600, width=600)\n",
    "fig.show()"
   ]
  },
  {
   "cell_type": "markdown",
   "id": "ba5ba1bb",
   "metadata": {},
   "source": [
    "### Price"
   ]
  },
  {
   "cell_type": "code",
   "execution_count": null,
   "id": "a25687a4",
   "metadata": {},
   "outputs": [],
   "source": [
    "# dropping '€' sign and the commas \n",
    "ppr['price']= ppr['price'].str.replace(\"€\",\"\")\n",
    "ppr['price'] = ppr['price'].str.replace(\",\",\"\")\n",
    "\n",
    "# converting to a float\n",
    "ppr['price'] = ppr['price'].astype('float')\n"
   ]
  },
  {
   "attachments": {
    "image.png": {
     "image/png": "[encoded data removed]"
    }
   },
   "cell_type": "markdown",
   "id": "d7450cb6",
   "metadata": {},
   "source": [
    "### VAT Exclusive\n",
    "![image.png](attachment:image.png)"
   ]
  },
  {
   "cell_type": "code",
   "execution_count": null,
   "id": "c2310ec7",
   "metadata": {},
   "outputs": [],
   "source": [
    "ppr_vat_exclusive = ppr.groupby(['vat_exclusive']).size().to_frame('count').sort_values(by= 'count', ascending=False)\n",
    "ppr_vat_exclusive = pd.DataFrame(ppr_vat_exclusive)\n",
    "ppr_vat_exclusive = ppr_vat_exclusive.reset_index(drop=False)\n",
    "\n",
    "ppr_vat_exclusive['% of vat_exclusive'] = ppr_vat_exclusive['count'] /ppr_vat_exclusive['count'].sum()\n",
    "print(ppr_vat_exclusive)\n",
    "\n",
    "# vat_exclusive\n",
    "fig = px.bar(x = ppr_vat_exclusive['vat_exclusive'], \n",
    "             y =  ppr_vat_exclusive[\"count\"])\n",
    "\n",
    "fig.update_layout(title = \"Breakdown of VAT Exclusive\",\n",
    "                  yaxis_title = 'Number of Properties', \n",
    "                  xaxis_title =  None, \n",
    "                  barmode='group')\n",
    "fig.update_layout(height=600, width=600)\n",
    "fig.show()"
   ]
  },
  {
   "cell_type": "code",
   "execution_count": null,
   "id": "09a0a878",
   "metadata": {},
   "outputs": [],
   "source": [
    "ppr['price'].describe()"
   ]
  },
  {
   "cell_type": "markdown",
   "id": "9c3c9960",
   "metadata": {},
   "source": [
    "### Not Full Market Price "
   ]
  },
  {
   "cell_type": "code",
   "execution_count": null,
   "id": "5dd64052",
   "metadata": {},
   "outputs": [],
   "source": [
    "ppr[ppr['not_full_market_price'] == 'Yes']"
   ]
  },
  {
   "cell_type": "code",
   "execution_count": null,
   "id": "ad230def",
   "metadata": {},
   "outputs": [],
   "source": [
    "ppr_not_full_market_price = ppr.groupby(['not_full_market_price']).size().to_frame('count').sort_values(by= 'count', ascending=False)\n",
    "ppr_not_full_market_price = pd.DataFrame(ppr_not_full_market_price)\n",
    "ppr_not_full_market_price = ppr_not_full_market_price.reset_index(drop=False)\n",
    "\n",
    "ppr_not_full_market_price['% of not_full_market_price'] = ppr_not_full_market_price['count'] /ppr_not_full_market_price['count'].sum()\n",
    "print(ppr_not_full_market_price)\n",
    "\n",
    "\n",
    "# not_full_market_price\n",
    "fig = px.bar(x = ppr_not_full_market_price['not_full_market_price'], \n",
    "             y =  ppr_not_full_market_price[\"count\"])\n",
    "\n",
    "fig.update_layout(title = \"Breakdown of Not Full Market Price\",\n",
    "                  yaxis_title = 'Number of Properties', \n",
    "                  xaxis_title =  None, \n",
    "                  barmode='group')\n",
    "fig.update_layout(height=600, width=600)\n",
    "fig.show()"
   ]
  },
  {
   "cell_type": "markdown",
   "id": "d9630525",
   "metadata": {},
   "source": [
    "### Cleaning Columns"
   ]
  },
  {
   "cell_type": "code",
   "execution_count": null,
   "id": "a60dc73f",
   "metadata": {},
   "outputs": [],
   "source": [
    "# # dropping columns\n",
    "# ppr = ppr.drop(['not_full_market_price', 'vat_exclusive'], axis=1)\n",
    "# renaming columns\n",
    "ppr = ppr.rename(columns={\"recalculated_county\" : \"county\"})"
   ]
  },
  {
   "cell_type": "code",
   "execution_count": null,
   "id": "e6d40709",
   "metadata": {},
   "outputs": [],
   "source": []
  },
  {
   "cell_type": "markdown",
   "id": "7cc2f4d5",
   "metadata": {},
   "source": [
    "### Cleaning Dublin Address"
   ]
  },
  {
   "cell_type": "code",
   "execution_count": null,
   "id": "3ecd33e4",
   "metadata": {},
   "outputs": [],
   "source": [
    "## Creating a column town\n",
    "ppr['town'] = ppr['address'].str.split(',').str[-1]\n",
    "\n",
    "# daft['town'] = daft['town'].str.split(' ').str[1]\n",
    "town = ppr['town'].sort_values(ascending = True).unique()\n",
    "for i in town:\n",
    "    print(i)"
   ]
  },
  {
   "cell_type": "markdown",
   "id": "697e5774",
   "metadata": {},
   "source": [
    "#### Incorrect spelling of  County Dublin"
   ]
  },
  {
   "cell_type": "code",
   "execution_count": null,
   "id": "6ba12f7f",
   "metadata": {},
   "outputs": [],
   "source": [
    "ppr['address'] = ppr['address'].str.replace('Á', 'A')\n",
    "ppr['address'] = ppr['address'].str.replace('BAILE ATHA CLIATH', 'DUBLIN')\n",
    "ppr['address'] = ppr['address'].str.replace('BHAILE ATHA CLIATH', 'DUBLIN')\n",
    "ppr['address'] = ppr['address'].str.replace(':UCAN', 'LUCAN')\n",
    "ppr['address'] = ppr['address'].str.replace('ATH CLIATH', 'DUBLIN') #5\n",
    "ppr['address'] = ppr['address'].str.replace('ATHA CLIAITH', 'DUBLIN')\n",
    "ppr['address'] = ppr['address'].str.replace('ATHA CLIATH', 'DUBLIN')\n",
    "ppr['address'] = ppr['address'].str.replace('BAILE ATHA BUI', 'DUBLIN')\n",
    "ppr['address'] = ppr['address'].str.replace('B A C', 'DUBLIN')\n",
    "ppr['address'] = ppr['address'].str.replace('B.A.C', 'DUBLIN') #10\n",
    "ppr['address'] = ppr['address'].str.replace('BAC', 'DUBLIN')\n",
    "ppr['address'] = ppr['address'].str.replace('BAILE ATA CLIATH', 'DUBLIN')\n",
    "ppr['address'] = ppr['address'].str.replace('ATH CLIATH', 'DUBLIN')\n",
    "ppr['address'] = ppr['address'].str.replace('CLONSILLA DUBLIN 5', 'CLONSILLA DUBLIN 15')\n",
    "ppr['address'] = ppr['address'].str.replace('CO ATHA CLIATH', 'DUBLIN') #15\n",
    "ppr['address'] = ppr['address'].str.replace('DUBLN', 'DUBLIN')\n",
    "ppr['address'] = ppr['address'].str.replace('DULBIN', 'DUBLIN')\n",
    "ppr['address'] = ppr['address'].str.replace('DUBILN', 'DUBLIN')\n",
    "ppr['address'] = ppr['address'].str.replace('DUBLILN', 'DUBLIN')\n",
    "ppr['address'] = ppr['address'].str.replace('DUBLIN.', 'DUBLIN') #20\n",
    "ppr['address'] = ppr['address'].str.replace('DUNLIN', 'DUBLIN')\n",
    "ppr['address'] = ppr['address'].str.replace('DUBLINW', 'DUBLIN 6W')\n",
    "# dealing with misspellings of counties\n",
    "ppr['address'] = ppr['address'].str.replace('KIILDARE', 'KILDARE')\n",
    "ppr['address'] = ppr['address'].str.replace('MEAHT', 'MEATH')\n",
    "ppr['address'] = ppr['address'].str.replace(', COWICKLOW', '')"
   ]
  },
  {
   "cell_type": "markdown",
   "id": "0d8a60a9",
   "metadata": {},
   "source": [
    "####  Dublin Locations"
   ]
  },
  {
   "cell_type": "code",
   "execution_count": null,
   "id": "afa0964a",
   "metadata": {},
   "outputs": [],
   "source": [
    "ppr['address'] = ppr['address'].str.replace('IRELAND', '')\n",
    "ppr['address'] = ppr['address'].str.replace('JAMESS ST', ' JAMES STREET')\n",
    "ppr['address'] = ppr['address'].str.replace('TALLAGH', 'TALLAGHT')\n",
    "ppr['address'] = ppr['address'].str.replace('TALLGHT', 'TALLAGHT')\n",
    "ppr['address'] = ppr['address'].str.replace('TALLAGHTT', 'TALLAGHT')\n",
    "ppr['address'] = ppr['address'].str.replace('STONYBATTER', 'STONEYBATTER')\n",
    "ppr['address'] = ppr['address'].str.replace('STILLORGHAN', 'STILLORGAN')\n",
    "ppr['address'] = ppr['address'].str.replace('SMITHFILED', 'SMITHFIELD ')\n",
    "ppr['address'] = ppr['address'].str.replace('SHANKHILL', 'SHANKILL ')\n",
    "ppr['address'] = ppr['address'].str.replace('RATHBOURNE', 'RATHBORNE ')\n",
    "ppr['address'] = ppr['address'].str.replace('FINGALS', 'FINGLAS ')\n",
    "ppr['address'] = ppr['address'].str.replace('FOXROXK', 'FOXROCK ')\n",
    "ppr['address'] = ppr['address'].str.replace('SIR JOHN ROGERSONS QUAY','SIR JOHN ROGERSON\\'S QUAY')\n",
    "ppr['address'] = ppr['address'].str.replace('TYRRELLSTOWN', 'TYRRELSTOWN')\n",
    "ppr['address'] = ppr['address'].str.replace('VILAGE', 'VILLAGE')\n",
    "ppr['address'] = ppr['address'].str.replace('ASHTOTWN', 'ASHTOWN')\n",
    "ppr['address'] = ppr['address'].str.replace('ARTAME', 'ARTANE')\n",
    "ppr['address'] = ppr['address'].str.replace('BALLINTEER DUNDRUM', 'BALLINTEER')\n",
    "ppr['address'] = ppr['address'].str.replace('B ALLINTEER', 'BALLINTEER')\n",
    "ppr['address'] = ppr['address'].str.replace('BRAE', 'BRAY')\n",
    "ppr['address'] = ppr['address'].str.replace('BALBRGGAN', 'BALBRIGAN')\n",
    "ppr['address'] = ppr['address'].str.replace('BALBRIGGEN', 'BALBRIGAN')\n",
    "ppr['address'] = ppr['address'].str.replace('BALBRGGAN', 'BALBRIGAN')\n",
    "ppr['address'] = ppr['address'].str.replace('BALBRIGGEN', 'BALBRIGAN')\n",
    "ppr['address'] = ppr['address'].str.replace('BALBROGGAN', 'BALBRIGAN')\n",
    "ppr['address'] = ppr['address'].str.replace('BALBRIGGIN', 'BALBRIGAN')\n",
    "ppr['address'] = ppr['address'].str.replace('BALDONELL', 'BALDONNEL')\n",
    "ppr['address'] = ppr['address'].str.replace('BALDONNELL', 'BALDONNEL')\n",
    "ppr['address'] = ppr['address'].str.replace('BALGRIFFIIN', 'BALGRIFFIN')\n",
    "ppr['address'] = ppr['address'].str.replace('BALGRIFFAN', 'BALGRIFFIN')\n",
    "ppr['address'] = ppr['address'].str.replace('BALGRIFFIIN', 'BALGRIFFIN')\n",
    "ppr['address'] = ppr['address'].str.replace('BALGRIFFIIN', 'BALGRIFFIN')\n",
    "ppr['address'] = ppr['address'].str.replace('BALGRIGGAN', 'BALLBRIGGAN')\n",
    "ppr['address'] = ppr['address'].str.replace('BALGRIGGIN', 'BALLBRIGGAN')\n",
    "ppr['address'] = ppr['address'].str.replace('BALGRIVVIN', 'BALGRIFFIN')\n",
    "ppr['address'] = ppr['address'].str.replace('DEANS GRANGE', 'DEANSGRANGE')\n",
    "ppr['address'] = ppr['address'].str.replace('DONAGHMEDE', 'DONAGHMEADE')\n",
    "ppr['address'] = ppr['address'].str.replace('DONBATE', 'DONABATE')\n",
    "ppr['address'] = ppr['address'].str.replace('DUN LAGHAIRE', 'DUN LAOGHAIRE')\n",
    "ppr['address'] = ppr['address'].str.replace('DUN LAOGHIRE', 'DUN LAOGHAIRE')\n",
    "ppr['address'] = ppr['address'].str.replace('DUNLAOGHAIRE', 'DUN LAOGHAIRE')\n",
    "ppr['address'] = ppr['address'].str.replace('DUN LAOIGHAIRE', 'DUN LAOGHAIRE')\n",
    "ppr['address'] = ppr['address'].str.replace('DUNLAOIRE', 'DUN LAOGHAIRE')\n",
    "ppr['address'] = ppr['address'].str.replace('ENFILED', 'ENFIELD')\n",
    "ppr['address'] = ppr['address'].str.replace('HOLLSYTOWN', 'HOLLYSTOWN')\n",
    "ppr['address'] = ppr['address'].str.replace('I F S C', 'IFSC')\n",
    "ppr['address'] = ppr['address'].str.replace('KILDANAGAN', 'KILDANGAN')\n",
    "ppr['address'] = ppr['address'].str.replace('KILLNEY', 'KILLINEY')\n",
    "ppr['address'] = ppr['address'].str.replace('KINSEAL', 'KINSEALY')\n",
    "ppr['address'] = ppr['address'].str.replace('KINLEALY', 'KINSEALY')\n",
    "ppr['address'] = ppr['address'].str.replace('LICAN', 'LUCAN')\n",
    "ppr['address'] = ppr['address'].str.replace(' AVE,', ' AVENUE,')\n",
    "ppr['address'] = ppr['address'].str.replace(' RD,', ' ROAD,')\n",
    "ppr['address'] = ppr['address'].str.replace(' ST,', ' STREET,')\n",
    "ppr['address'] = ppr['address'].str.replace(' SQ,', ' SQUARE,')\n",
    "ppr['address'] = ppr['address'].str.replace(' AVE ', ' AVENUE ')\n",
    "ppr['address'] = ppr['address'].str.replace(' RD ', ' ROAD ')\n",
    "ppr['address'] = ppr['address'].str.replace(' ST ', ' STREET ')\n",
    "ppr['address'] = ppr['address'].str.replace(' SQ ', ' SQUARE ')\n",
    "ppr['address'] = ppr['address'].str.replace(' APT ', ' APARTMENT ')\n",
    "ppr['address'] = ppr['address'].str.replace('ADADMSTOWN', 'ADAMSTOWN')\n",
    "ppr['address'] = ppr['address'].str.replace('ADAMANSTOWN', 'ADAMSTOWN')\n",
    "ppr['address'] = ppr['address'].str.replace('ADAMNSTOWN', 'ADAMSTOWN')\n",
    "ppr['address'] = ppr['address'].str.replace('ADAMSTON', 'ADAMSTOWN')\n",
    "ppr['address'] = ppr['address'].str.replace('ADAMSTOW', 'ADAMSTOWN')\n",
    "ppr['address'] = ppr['address'].str.replace('ADAMSTOWNN', 'ADAMSTOWN')## adds an N to the data so double NN was replaced\n",
    "ppr['address'] = ppr['address'].str.replace('ASHBOUNE', 'ASHBOURNE')\n",
    "ppr['address'] = ppr['address'].str.replace('BLAINEROE', 'BLAINROE')\n",
    "ppr['address'] = ppr['address'].str.replace('BREWREY', 'BREWERY')\n",
    "ppr['address'] = ppr['address'].str.replace('CARRAGH', 'CARAGH')\n",
    "ppr['address'] = ppr['address'].str.replace('CELLBRIDGE', 'CELBRIDGE')\n",
    "ppr['address'] = ppr['address'].str.replace('CITY WEST', 'CITYWEST')\n",
    "ppr['address'] = ppr['address'].str.replace('CITYWEST WEST', 'CITYWEST')\n",
    "ppr['address'] = ppr['address'].str.replace('CLONTART', 'CLONTARF')\n",
    "ppr['address'] = ppr['address'].str.replace('KILDAER', 'KILDARE')\n",
    "ppr['address'] = ppr['address'].str.replace('CODUBLIN', 'DUBLIN')\n",
    "ppr['address'] = ppr['address'].str.replace('COKILDARE', 'KILDARE')\n",
    "ppr['address'] = ppr['address'].str.replace('COLKILDARE', 'KILDARE')\n",
    "ppr['address'] = ppr['address'].str.replace('COMEATH', 'MEATH')\n",
    "ppr['address'] = ppr['address'].str.replace('COUNT ', 'COUNTY ')\n",
    "ppr['address'] = ppr['address'].str.replace('DELGANEY', ' DELGANY')\n",
    "ppr['address'] = ppr['address'].str.replace('DELGAMY', ' DELGANY')\n",
    "ppr['address'] = ppr['address'].str.replace('DISTILLARY', ' DISTILLERY')\n",
    "ppr['address'] = ppr['address'].str.replace('DUBLIN2 4', ' DUBLIN24')\n",
    "ppr['address'] = ppr['address'].str.replace('DUBLIN5 DUBLIN5', 'DUBLIN5')\n",
    "ppr['address'] = ppr['address'].str.replace('(PART)', '')\n",
    "ppr['address'] = ppr['address'].str.replace('DUNSHAUGLIN', 'DUNSHAUGHLIN')\n",
    "ppr['address'] = ppr['address'].str.replace('KELL', 'KELLS')\n",
    "ppr['address'] = ppr['address'].str.replace('KELLSS', 'KELLS')\n",
    "ppr['address'] = ppr['address'].str.replace('KINSEALYY', 'KINSEALY')\n",
    "ppr['address'] = ppr['address'].str.replace('MIONASTEREVIN', 'MONASTEREVIN')\n",
    "ppr['address'] = ppr['address'].str.replace('MONASTEREVAN', 'MONASTEREVIN')\n",
    "ppr['address'] = ppr['address'].str.replace('MONASTERVEIN', 'MONASTEREVIN')\n",
    "ppr['address'] = ppr['address'].str.replace('NEWTOWN MOUNT KENNEDY', 'NEWTOWNMOUNTKENNEDY')\n",
    "ppr['address'] = ppr['address'].str.replace('NEWTOWNMOUNTKENEDY', 'NEWTOWNMOUNTKENNEDY')\n",
    "ppr['address'] = ppr['address'].str.replace('NEWTOWNMTKENNEDY', 'NEWTOWNMOUNTKENNEDY')\n",
    "ppr['address'] = ppr['address'].str.replace('NICKLOW', 'WICKLOW')\n",
    "ppr['address'] = ppr['address'].str.replace('PHIBSBORO', 'PHIBSBOROUGH')\n",
    "ppr['address'] = ppr['address'].str.replace('PHIBSBORO', 'PHIBSBOROUGH')\n",
    "ppr['address'] = ppr['address'].str.replace('RATHCOOL', 'RATHCOOLE')\n",
    "ppr['address'] = ppr['address'].str.replace('RATHCOOLEE', 'RATHCOOLE')\n",
    "ppr['address'] = ppr['address'].str.replace('RATHMICAEL', 'RATHMICHAEL')\n",
    "ppr['address'] = ppr['address'].str.replace('RATHMULLEN', 'RATHMULLAN')\n",
    "ppr['address'] = ppr['address'].str.replace('SCHLOARSTOWN', 'SCHOLARSTOWN')\n",
    "ppr['address'] = ppr['address'].str.replace('STRAFAN', 'STRAFFAN')\n",
    "ppr['address'] = ppr['address'].str.replace('TALLAGHT DUBLIN4', 'TALLAGHT DUBLIN24')\n",
    "ppr['address'] = ppr['address'].str.replace('TRIMBLESTON', 'TRIMBLESTOWN')\n",
    "ppr['address'] = ppr['address'].str.replace('TRIMEBLESTON', 'TRIMBLESTOWN')\n",
    "ppr['address'] = ppr['address'].str.replace('TYRCONNEL', 'TYRCONNELL')\n",
    "ppr['address'] = ppr['address'].str.replace('UPR', 'UPPER')\n",
    "ppr['address'] = ppr['address'].str.replace('WICLOW', 'WICKLOW')\n",
    "ppr['address'] = ppr['address'].str.replace('DUBLINARDSTOWN', 'BLANCHARDSTOWN')"
   ]
  },
  {
   "cell_type": "markdown",
   "id": "372116f4",
   "metadata": {},
   "source": [
    "### Solving Issues with 'address' column \n",
    "##### Issue 1"
   ]
  },
  {
   "cell_type": "code",
   "execution_count": null,
   "id": "3a1dcb92",
   "metadata": {},
   "outputs": [],
   "source": [
    "list(ppr['address'][ppr['address'].str.contains('7 TINAHASK UPPER, ARKLOW')].head(50))"
   ]
  },
  {
   "cell_type": "code",
   "execution_count": null,
   "id": "a576318a",
   "metadata": {},
   "outputs": [],
   "source": [
    "ppr['address'][ppr['address'].str.contains('7 TINAHASK UPPER, ARKLOW')] = '7 TINAHASK UPPER, ARKLOW'"
   ]
  },
  {
   "cell_type": "markdown",
   "id": "a5b750a8",
   "metadata": {},
   "source": [
    "##### Issue 2"
   ]
  },
  {
   "cell_type": "code",
   "execution_count": null,
   "id": "3984160a",
   "metadata": {},
   "outputs": [],
   "source": [
    "ppr[ppr['address'].str.contains('26 BIGGER ROAD, WALKINSTOWN, DIZ DUBLIN 12')].head(50)"
   ]
  },
  {
   "cell_type": "code",
   "execution_count": null,
   "id": "4acdb76f",
   "metadata": {},
   "outputs": [],
   "source": [
    "ppr['address'][ppr['address'].str.contains('DIZ')] = '26 BIGGER RD, WALKINSTOWN, DUBLIN12'\n",
    "ppr[ppr['address'].str.contains('26 BIGGER RD, WALKINSTOWN, DUBLIN 12')]"
   ]
  },
  {
   "cell_type": "code",
   "execution_count": null,
   "id": "9086717b",
   "metadata": {},
   "outputs": [],
   "source": []
  },
  {
   "cell_type": "markdown",
   "id": "85b94883",
   "metadata": {},
   "source": [
    "## Dublin Eircode / Postcode"
   ]
  },
  {
   "cell_type": "code",
   "execution_count": null,
   "id": "302c258a",
   "metadata": {},
   "outputs": [],
   "source": [
    "# extracting 'DUBLIN 1' and 'DUBLIN 11', 'D1' and 'D15'\n",
    "# IT IS NOT PICKING UP 'DUBLIN 6W' AND 'DUBLIN6W'\n",
    "ppr[\"postcode\"] = ppr[\"address\"].str.extract(r'(DUBLIN \\d+|DUBLIN \\d+\\W)', \n",
    "                                           expand=True)\n",
    "\n",
    "# examining dublin postcodes\n",
    "ppr[\"postcode\"].unique()"
   ]
  },
  {
   "cell_type": "code",
   "execution_count": null,
   "id": "6e0ef730",
   "metadata": {},
   "outputs": [],
   "source": [
    "ppr['address'] = ppr['address'].str.replace('DUBLIN1', 'DUBLIN 1')\n",
    "ppr['address'] = ppr['address'].str.replace('DUBLIN2', 'DUBLIN 2')\n",
    "ppr['address'] = ppr['address'].str.replace('DUBLIN3', 'DUBLIN 3')\n",
    "ppr['address'] = ppr['address'].str.replace('DUBLIN4', 'DUBLIN 4')\n",
    "ppr['address'] = ppr['address'].str.replace('DUBLIN5', 'DUBLIN 5')\n",
    "ppr['address'] = ppr['address'].str.replace('DUBLIN6', 'DUBLIN 6')\n",
    "ppr['address'] = ppr['address'].str.replace('DUBLIN6W', 'DUBLIN 6W')\n",
    "ppr['address'] = ppr['address'].str.replace('DUBLIN7', 'DUBLIN 7')\n",
    "ppr['address'] = ppr['address'].str.replace('DUBLIN8', 'DUBLIN 8')\n",
    "ppr['address'] = ppr['address'].str.replace('DUBLIN9', 'DUBLIN 9')\n",
    "\n",
    "ppr['address'] = ppr['address'].str.replace(' D1', ' DUBLIN 1')\n",
    "ppr['address'] = ppr['address'].str.replace(' D2', ' DUBLIN 2')\n",
    "ppr['address'] = ppr['address'].str.replace(' D3', ' DUBLIN 3')\n",
    "ppr['address'] = ppr['address'].str.replace(' D4', ' DUBLIN 4')\n",
    "ppr['address'] = ppr['address'].str.replace(' D5', ' DUBLIN 5')\n",
    "ppr['address'] = ppr['address'].str.replace(' D6', ' DUBLIN 6')\n",
    "ppr['address'] = ppr['address'].str.replace(' D6W', ' DUBLIN 6W')\n",
    "ppr['address'] = ppr['address'].str.replace(' D7', ' DUBLIN 7')\n",
    "ppr['address'] = ppr['address'].str.replace(' D8', ' DUBLIN 8')\n",
    "ppr['address'] = ppr['address'].str.replace(' D9', ' DUBLIN 9')\n",
    "\n",
    "ppr['address'] = ppr['address'].str.replace(' D 1', ' DUBLIN 1')\n",
    "ppr['address'] = ppr['address'].str.replace(' D 2', ' DUBLIN 2')\n",
    "ppr['address'] = ppr['address'].str.replace(' D 3', ' DUBLIN 3')\n",
    "ppr['address'] = ppr['address'].str.replace(' D 4', ' DUBLIN 4')\n",
    "ppr['address'] = ppr['address'].str.replace(' D 5', ' DUBLIN 5')\n",
    "ppr['address'] = ppr['address'].str.replace(' D 6', ' DUBLIN 6')\n",
    "ppr['address'] = ppr['address'].str.replace(' D 6W', ' DUBLIN 6W')\n",
    "ppr['address'] = ppr['address'].str.replace(' D 7', ' DUBLIN 7')\n",
    "ppr['address'] = ppr['address'].str.replace(' D 8', ' DUBLIN 8')\n",
    "ppr['address'] = ppr['address'].str.replace(' D 9', ' DUBLIN 9')\n"
   ]
  },
  {
   "cell_type": "code",
   "execution_count": null,
   "id": "35cf118c",
   "metadata": {},
   "outputs": [],
   "source": []
  },
  {
   "cell_type": "code",
   "execution_count": null,
   "id": "9c6df98a",
   "metadata": {},
   "outputs": [],
   "source": []
  },
  {
   "cell_type": "markdown",
   "id": "11348545",
   "metadata": {},
   "source": [
    "### Date Selection"
   ]
  },
  {
   "cell_type": "code",
   "execution_count": null,
   "id": "dba841b2",
   "metadata": {},
   "outputs": [],
   "source": [
    "# selecting based on Airbnb date range\n",
    "ppr = ppr[ppr['date']>='2021/07/01'] # the df of Airbnb calendar\n",
    "ppr = ppr[ppr['date']<'2022/07/01'] # "
   ]
  },
  {
   "cell_type": "markdown",
   "id": "a2c2033d",
   "metadata": {},
   "source": [
    "### Greater Dublin Area"
   ]
  },
  {
   "cell_type": "code",
   "execution_count": null,
   "id": "9a20a6e5",
   "metadata": {},
   "outputs": [],
   "source": [
    "# creating a new variable\n",
    "ppr.loc[ppr['county'] == 'DUBLIN', 'gda'] = 'GREATER DUBLIN AREA'\n",
    "ppr.loc[ppr['county'] == 'KILDARE', 'gda'] = 'GREATER DUBLIN AREA'\n",
    "ppr.loc[ppr['county'] == 'WICKLOW', 'gda'] = 'GREATER DUBLIN AREA'\n",
    "ppr.loc[ppr['county'] == 'MEATH', 'gda'] = 'GREATER DUBLIN AREA'\n",
    "ppr.loc[ppr['county'] == 'LOUTH', 'gda'] = 'GREATER DUBLIN AREA'\n",
    "\n",
    "ppr['gda'] = ppr['gda'].fillna('NOT GREATER DUBLIN AREA')"
   ]
  },
  {
   "cell_type": "code",
   "execution_count": null,
   "id": "abe5e108",
   "metadata": {},
   "outputs": [],
   "source": [
    "ppr = ppr[ppr['gda'] == 'GREATER DUBLIN AREA']"
   ]
  },
  {
   "cell_type": "markdown",
   "id": "b9049579",
   "metadata": {},
   "source": [
    "### Total Address\n",
    "Adding address with county, eircode and 'Ireland' for accuracy during geocoding"
   ]
  },
  {
   "cell_type": "code",
   "execution_count": null,
   "id": "e86a19b9",
   "metadata": {},
   "outputs": [],
   "source": [
    "# creating a new column\n",
    "ppr['total_address'] = ppr['address'] + ', ' + ppr['county'] + ', ' + ppr['eircode'] + ', IRELAND' \n",
    "ppr['total_address'] = ppr['total_address'].str.replace('EIRCODE UNAVAILABLE, ','')\n",
    "ppr['total_address'] =  ppr['total_address'].str.upper()\n",
    "ppr['total_address']"
   ]
  },
  {
   "cell_type": "markdown",
   "id": "349843d8",
   "metadata": {},
   "source": [
    "### Duplicates"
   ]
  },
  {
   "cell_type": "code",
   "execution_count": null,
   "id": "375d4179",
   "metadata": {},
   "outputs": [],
   "source": [
    "ppr[ppr['total_address'].duplicated()].head(20)"
   ]
  },
  {
   "cell_type": "code",
   "execution_count": null,
   "id": "d51d3339",
   "metadata": {},
   "outputs": [],
   "source": [
    "# ... and duplicates\n",
    "print(\"THis dataset contains {} duplicates of the same address.\".format(ppr['total_address'].duplicated().sum()))"
   ]
  },
  {
   "cell_type": "code",
   "execution_count": null,
   "id": "ba379558",
   "metadata": {},
   "outputs": [],
   "source": [
    "ppr[ppr['total_address'].duplicated()].sort_values(by='address', ascending = False).head(50)"
   ]
  },
  {
   "cell_type": "code",
   "execution_count": null,
   "id": "03a1ebd2",
   "metadata": {},
   "outputs": [],
   "source": [
    "ppr.shape"
   ]
  },
  {
   "cell_type": "code",
   "execution_count": null,
   "id": "b98d61d8",
   "metadata": {},
   "outputs": [],
   "source": [
    "ppr = ppr[~(ppr['total_address'].duplicated())]"
   ]
  },
  {
   "cell_type": "code",
   "execution_count": null,
   "id": "cbd587f5",
   "metadata": {},
   "outputs": [],
   "source": []
  },
  {
   "cell_type": "code",
   "execution_count": null,
   "id": "2b3f1f5d",
   "metadata": {},
   "outputs": [],
   "source": [
    "# checking for missing data\n",
    "print('Nan in each columns' , ppr.isna().sum(), sep='\\n')\n",
    "# no missing data"
   ]
  },
  {
   "cell_type": "code",
   "execution_count": null,
   "id": "e6136f96",
   "metadata": {},
   "outputs": [],
   "source": [
    "ppr.shape"
   ]
  },
  {
   "cell_type": "markdown",
   "id": "da9d304e",
   "metadata": {},
   "source": [
    "### Save clean data"
   ]
  },
  {
   "cell_type": "code",
   "execution_count": null,
   "id": "c6f789b8",
   "metadata": {},
   "outputs": [],
   "source": [
    "ppr.to_csv('data/clean_gda_ppr.csv', index=False)"
   ]
  },
  {
   "cell_type": "code",
   "execution_count": null,
   "id": "3c705165",
   "metadata": {},
   "outputs": [],
   "source": []
  }
 ],
 "metadata": {
  "kernelspec": {
   "display_name": "Python 3 (ipykernel)",
   "language": "python",
   "name": "python3"
  },
  "language_info": {
   "codemirror_mode": {
    "name": "ipython",
    "version": 3
   },
   "file_extension": ".py",
   "mimetype": "text/x-python",
   "name": "python",
   "nbconvert_exporter": "python",
   "pygments_lexer": "ipython3",
   "version": "3.9.13"
  },
  "widgets": {
   "application/vnd.jupyter.widget-state+json": {
    "state": {},
    "version_major": 2,
    "version_minor": 0
   }
  }
 },
 "nbformat": 4,
 "nbformat_minor": 5
}
